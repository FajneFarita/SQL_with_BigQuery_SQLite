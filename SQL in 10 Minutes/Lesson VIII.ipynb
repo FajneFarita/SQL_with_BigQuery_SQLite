{
 "cells": [
  {
   "cell_type": "markdown",
   "metadata": {},
   "source": [
    "### SQL in 10 Minutes\n",
    "#### Lesson VIII\n",
    "`CREATE TABLE`, `ALTER TABLE`, `VIEW`, `CONSTRAINT`"
   ]
  },
  {
   "cell_type": "code",
   "execution_count": 1,
   "metadata": {},
   "outputs": [],
   "source": [
    "import sqlite3\n",
    "import pandas as pd"
   ]
  },
  {
   "cell_type": "code",
   "execution_count": 2,
   "metadata": {},
   "outputs": [],
   "source": [
    "db = 'tysql.sqlite'\n",
    "conn = sqlite3.connect(db)"
   ]
  },
  {
   "cell_type": "code",
   "execution_count": 3,
   "metadata": {},
   "outputs": [
    {
     "data": {
      "text/html": [
       "<div>\n",
       "<style scoped>\n",
       "    .dataframe tbody tr th:only-of-type {\n",
       "        vertical-align: middle;\n",
       "    }\n",
       "\n",
       "    .dataframe tbody tr th {\n",
       "        vertical-align: top;\n",
       "    }\n",
       "\n",
       "    .dataframe thead th {\n",
       "        text-align: right;\n",
       "    }\n",
       "</style>\n",
       "<table border=\"1\" class=\"dataframe\">\n",
       "  <thead>\n",
       "    <tr style=\"text-align: right;\">\n",
       "      <th></th>\n",
       "      <th>type</th>\n",
       "      <th>name</th>\n",
       "      <th>tbl_name</th>\n",
       "      <th>rootpage</th>\n",
       "      <th>sql</th>\n",
       "    </tr>\n",
       "  </thead>\n",
       "  <tbody>\n",
       "    <tr>\n",
       "      <th>0</th>\n",
       "      <td>table</td>\n",
       "      <td>Customers</td>\n",
       "      <td>Customers</td>\n",
       "      <td>2</td>\n",
       "      <td>CREATE TABLE Customers\\n(\\n  cust_id      char...</td>\n",
       "    </tr>\n",
       "    <tr>\n",
       "      <th>1</th>\n",
       "      <td>table</td>\n",
       "      <td>OrderItems</td>\n",
       "      <td>OrderItems</td>\n",
       "      <td>4</td>\n",
       "      <td>CREATE TABLE OrderItems\\n(\\n  order_num  int  ...</td>\n",
       "    </tr>\n",
       "    <tr>\n",
       "      <th>2</th>\n",
       "      <td>table</td>\n",
       "      <td>Orders</td>\n",
       "      <td>Orders</td>\n",
       "      <td>7</td>\n",
       "      <td>CREATE TABLE Orders\\n(\\n  order_num  int      ...</td>\n",
       "    </tr>\n",
       "    <tr>\n",
       "      <th>3</th>\n",
       "      <td>table</td>\n",
       "      <td>Products</td>\n",
       "      <td>Products</td>\n",
       "      <td>10</td>\n",
       "      <td>CREATE TABLE Products\\n(\\n  prod_id    char(10...</td>\n",
       "    </tr>\n",
       "    <tr>\n",
       "      <th>4</th>\n",
       "      <td>table</td>\n",
       "      <td>Vendors</td>\n",
       "      <td>Vendors</td>\n",
       "      <td>12</td>\n",
       "      <td>CREATE TABLE Vendors\\n(\\n  vend_id      char(1...</td>\n",
       "    </tr>\n",
       "  </tbody>\n",
       "</table>\n",
       "</div>"
      ],
      "text/plain": [
       "    type        name    tbl_name  rootpage  \\\n",
       "0  table   Customers   Customers         2   \n",
       "1  table  OrderItems  OrderItems         4   \n",
       "2  table      Orders      Orders         7   \n",
       "3  table    Products    Products        10   \n",
       "4  table     Vendors     Vendors        12   \n",
       "\n",
       "                                                 sql  \n",
       "0  CREATE TABLE Customers\\n(\\n  cust_id      char...  \n",
       "1  CREATE TABLE OrderItems\\n(\\n  order_num  int  ...  \n",
       "2  CREATE TABLE Orders\\n(\\n  order_num  int      ...  \n",
       "3  CREATE TABLE Products\\n(\\n  prod_id    char(10...  \n",
       "4  CREATE TABLE Vendors\\n(\\n  vend_id      char(1...  "
      ]
     },
     "execution_count": 3,
     "metadata": {},
     "output_type": "execute_result"
    }
   ],
   "source": [
    "tables = pd.read_sql(\"\"\"SELECT * FROM sqlite_master WHERE type = 'table';\"\"\", conn)\n",
    "tables"
   ]
  },
  {
   "cell_type": "code",
   "execution_count": 4,
   "metadata": {},
   "outputs": [],
   "source": [
    "sql = \"\"\"\n",
    "        create table PPD\n",
    "        ( \n",
    "          prod_id            CHAR(10)                 NOT NULL,\n",
    "          vend_id            CHAR(10)                 NOT NULL,\n",
    "          prod_name       CHAR(254)               NOT NULL,\n",
    "          prod_price        DECIMAL(8, 2)          NOT NULL,\n",
    "          prod_desc        VARCHAR(1000)        NULL\n",
    "        );\n",
    "        \"\"\""
   ]
  },
  {
   "cell_type": "code",
   "execution_count": 5,
   "metadata": {},
   "outputs": [
    {
     "data": {
      "text/plain": [
       "<sqlite3.Cursor at 0x11bd742d0>"
      ]
     },
     "execution_count": 5,
     "metadata": {},
     "output_type": "execute_result"
    }
   ],
   "source": [
    "cur = conn.cursor()\n",
    "cur.execute(sql)"
   ]
  },
  {
   "cell_type": "code",
   "execution_count": 6,
   "metadata": {},
   "outputs": [],
   "source": [
    "conn.commit()"
   ]
  },
  {
   "cell_type": "markdown",
   "metadata": {},
   "source": [
    "See if it works correctly:"
   ]
  },
  {
   "cell_type": "code",
   "execution_count": 7,
   "metadata": {},
   "outputs": [
    {
     "data": {
      "text/html": [
       "<div>\n",
       "<style scoped>\n",
       "    .dataframe tbody tr th:only-of-type {\n",
       "        vertical-align: middle;\n",
       "    }\n",
       "\n",
       "    .dataframe tbody tr th {\n",
       "        vertical-align: top;\n",
       "    }\n",
       "\n",
       "    .dataframe thead th {\n",
       "        text-align: right;\n",
       "    }\n",
       "</style>\n",
       "<table border=\"1\" class=\"dataframe\">\n",
       "  <thead>\n",
       "    <tr style=\"text-align: right;\">\n",
       "      <th></th>\n",
       "      <th>prod_id</th>\n",
       "      <th>vend_id</th>\n",
       "      <th>prod_name</th>\n",
       "      <th>prod_price</th>\n",
       "      <th>prod_desc</th>\n",
       "    </tr>\n",
       "  </thead>\n",
       "  <tbody>\n",
       "  </tbody>\n",
       "</table>\n",
       "</div>"
      ],
      "text/plain": [
       "Empty DataFrame\n",
       "Columns: [prod_id, vend_id, prod_name, prod_price, prod_desc]\n",
       "Index: []"
      ]
     },
     "execution_count": 7,
     "metadata": {},
     "output_type": "execute_result"
    }
   ],
   "source": [
    "ex1 = pd.read_sql(\"\"\"select * from PPD\"\"\", conn)\n",
    "ex1"
   ]
  },
  {
   "cell_type": "code",
   "execution_count": 8,
   "metadata": {},
   "outputs": [
    {
     "data": {
      "text/html": [
       "<div>\n",
       "<style scoped>\n",
       "    .dataframe tbody tr th:only-of-type {\n",
       "        vertical-align: middle;\n",
       "    }\n",
       "\n",
       "    .dataframe tbody tr th {\n",
       "        vertical-align: top;\n",
       "    }\n",
       "\n",
       "    .dataframe thead th {\n",
       "        text-align: right;\n",
       "    }\n",
       "</style>\n",
       "<table border=\"1\" class=\"dataframe\">\n",
       "  <thead>\n",
       "    <tr style=\"text-align: right;\">\n",
       "      <th></th>\n",
       "      <th>type</th>\n",
       "      <th>name</th>\n",
       "      <th>tbl_name</th>\n",
       "      <th>rootpage</th>\n",
       "      <th>sql</th>\n",
       "    </tr>\n",
       "  </thead>\n",
       "  <tbody>\n",
       "    <tr>\n",
       "      <th>0</th>\n",
       "      <td>table</td>\n",
       "      <td>Customers</td>\n",
       "      <td>Customers</td>\n",
       "      <td>2</td>\n",
       "      <td>CREATE TABLE Customers\\n(\\n  cust_id      char...</td>\n",
       "    </tr>\n",
       "    <tr>\n",
       "      <th>1</th>\n",
       "      <td>table</td>\n",
       "      <td>OrderItems</td>\n",
       "      <td>OrderItems</td>\n",
       "      <td>4</td>\n",
       "      <td>CREATE TABLE OrderItems\\n(\\n  order_num  int  ...</td>\n",
       "    </tr>\n",
       "    <tr>\n",
       "      <th>2</th>\n",
       "      <td>table</td>\n",
       "      <td>Orders</td>\n",
       "      <td>Orders</td>\n",
       "      <td>7</td>\n",
       "      <td>CREATE TABLE Orders\\n(\\n  order_num  int      ...</td>\n",
       "    </tr>\n",
       "    <tr>\n",
       "      <th>3</th>\n",
       "      <td>table</td>\n",
       "      <td>Products</td>\n",
       "      <td>Products</td>\n",
       "      <td>10</td>\n",
       "      <td>CREATE TABLE Products\\n(\\n  prod_id    char(10...</td>\n",
       "    </tr>\n",
       "    <tr>\n",
       "      <th>4</th>\n",
       "      <td>table</td>\n",
       "      <td>Vendors</td>\n",
       "      <td>Vendors</td>\n",
       "      <td>12</td>\n",
       "      <td>CREATE TABLE Vendors\\n(\\n  vend_id      char(1...</td>\n",
       "    </tr>\n",
       "    <tr>\n",
       "      <th>5</th>\n",
       "      <td>table</td>\n",
       "      <td>PPD</td>\n",
       "      <td>PPD</td>\n",
       "      <td>15</td>\n",
       "      <td>CREATE TABLE PPD\\n        ( \\n          prod_i...</td>\n",
       "    </tr>\n",
       "  </tbody>\n",
       "</table>\n",
       "</div>"
      ],
      "text/plain": [
       "    type        name    tbl_name  rootpage  \\\n",
       "0  table   Customers   Customers         2   \n",
       "1  table  OrderItems  OrderItems         4   \n",
       "2  table      Orders      Orders         7   \n",
       "3  table    Products    Products        10   \n",
       "4  table     Vendors     Vendors        12   \n",
       "5  table         PPD         PPD        15   \n",
       "\n",
       "                                                 sql  \n",
       "0  CREATE TABLE Customers\\n(\\n  cust_id      char...  \n",
       "1  CREATE TABLE OrderItems\\n(\\n  order_num  int  ...  \n",
       "2  CREATE TABLE Orders\\n(\\n  order_num  int      ...  \n",
       "3  CREATE TABLE Products\\n(\\n  prod_id    char(10...  \n",
       "4  CREATE TABLE Vendors\\n(\\n  vend_id      char(1...  \n",
       "5  CREATE TABLE PPD\\n        ( \\n          prod_i...  "
      ]
     },
     "execution_count": 8,
     "metadata": {},
     "output_type": "execute_result"
    }
   ],
   "source": [
    "tables = pd.read_sql(\"\"\"SELECT * FROM sqlite_master WHERE type = 'table';\"\"\", conn)\n",
    "tables"
   ]
  },
  {
   "cell_type": "code",
   "execution_count": 9,
   "metadata": {},
   "outputs": [],
   "source": [
    "sql = \"\"\"\n",
    "        create table ORD\n",
    "        ( \n",
    "          order_num        INTEGER                 NOT NULL,\n",
    "          order_date        DATETIME               NOT NULL,\n",
    "          cust_id             CHAR(10)                 NOT NULL\n",
    "        );\n",
    "        \"\"\""
   ]
  },
  {
   "cell_type": "code",
   "execution_count": 10,
   "metadata": {},
   "outputs": [],
   "source": [
    "cur = conn.cursor()\n",
    "cur.execute(sql)\n",
    "conn.commit()"
   ]
  },
  {
   "cell_type": "code",
   "execution_count": 11,
   "metadata": {},
   "outputs": [
    {
     "data": {
      "text/html": [
       "<div>\n",
       "<style scoped>\n",
       "    .dataframe tbody tr th:only-of-type {\n",
       "        vertical-align: middle;\n",
       "    }\n",
       "\n",
       "    .dataframe tbody tr th {\n",
       "        vertical-align: top;\n",
       "    }\n",
       "\n",
       "    .dataframe thead th {\n",
       "        text-align: right;\n",
       "    }\n",
       "</style>\n",
       "<table border=\"1\" class=\"dataframe\">\n",
       "  <thead>\n",
       "    <tr style=\"text-align: right;\">\n",
       "      <th></th>\n",
       "      <th>order_num</th>\n",
       "      <th>order_date</th>\n",
       "      <th>cust_id</th>\n",
       "    </tr>\n",
       "  </thead>\n",
       "  <tbody>\n",
       "  </tbody>\n",
       "</table>\n",
       "</div>"
      ],
      "text/plain": [
       "Empty DataFrame\n",
       "Columns: [order_num, order_date, cust_id]\n",
       "Index: []"
      ]
     },
     "execution_count": 11,
     "metadata": {},
     "output_type": "execute_result"
    }
   ],
   "source": [
    "ex2 = pd.read_sql(\"\"\"select * from ORD\"\"\", conn)\n",
    "ex2"
   ]
  },
  {
   "cell_type": "markdown",
   "metadata": {},
   "source": [
    "Mixing `NULL` & `NOT NULL`"
   ]
  },
  {
   "cell_type": "code",
   "execution_count": 18,
   "metadata": {},
   "outputs": [],
   "source": [
    "sql = \"\"\"\n",
    "        create table VEND\n",
    "        ( \n",
    "          vend_id            CHAR(10)                 NOT NULL,\n",
    "          vend_name       CHAR(50)                NOT NULL,\n",
    "          vend_address    CHAR(50)                       NULL,\n",
    "          vend_city          CHAR(50)                       NULL,\n",
    "          vend_state        CHAR(5)                         NULL,\n",
    "          vend_zip           CHAR(10)                        NULL,\n",
    "          vend_country    CHAR(50)                        NULL\n",
    "        );\n",
    "        \"\"\""
   ]
  },
  {
   "cell_type": "code",
   "execution_count": 19,
   "metadata": {},
   "outputs": [],
   "source": [
    "cur = conn.cursor()\n",
    "cur.execute(sql)\n",
    "conn.commit()"
   ]
  },
  {
   "cell_type": "code",
   "execution_count": 20,
   "metadata": {},
   "outputs": [
    {
     "data": {
      "text/html": [
       "<div>\n",
       "<style scoped>\n",
       "    .dataframe tbody tr th:only-of-type {\n",
       "        vertical-align: middle;\n",
       "    }\n",
       "\n",
       "    .dataframe tbody tr th {\n",
       "        vertical-align: top;\n",
       "    }\n",
       "\n",
       "    .dataframe thead th {\n",
       "        text-align: right;\n",
       "    }\n",
       "</style>\n",
       "<table border=\"1\" class=\"dataframe\">\n",
       "  <thead>\n",
       "    <tr style=\"text-align: right;\">\n",
       "      <th></th>\n",
       "      <th>vend_id</th>\n",
       "      <th>vend_name</th>\n",
       "      <th>vend_address</th>\n",
       "      <th>vend_city</th>\n",
       "      <th>vend_state</th>\n",
       "      <th>vend_zip</th>\n",
       "      <th>vend_country</th>\n",
       "    </tr>\n",
       "  </thead>\n",
       "  <tbody>\n",
       "  </tbody>\n",
       "</table>\n",
       "</div>"
      ],
      "text/plain": [
       "Empty DataFrame\n",
       "Columns: [vend_id, vend_name, vend_address, vend_city, vend_state, vend_zip, vend_country]\n",
       "Index: []"
      ]
     },
     "execution_count": 20,
     "metadata": {},
     "output_type": "execute_result"
    }
   ],
   "source": [
    "ex3 = pd.read_sql(\"\"\"select * from VEND\"\"\", conn)\n",
    "ex3"
   ]
  },
  {
   "cell_type": "markdown",
   "metadata": {},
   "source": [
    "`ALTER TABLE`\n",
    "\n",
    "add columns"
   ]
  },
  {
   "cell_type": "code",
   "execution_count": 21,
   "metadata": {},
   "outputs": [],
   "source": [
    "sql = \"\"\"\n",
    "        alter table VEND\n",
    "        add vend_phone   CHAR(20);\n",
    "        \"\"\""
   ]
  },
  {
   "cell_type": "code",
   "execution_count": 22,
   "metadata": {},
   "outputs": [],
   "source": [
    "cur = conn.cursor()\n",
    "cur.execute(sql)\n",
    "conn.commit()"
   ]
  },
  {
   "cell_type": "code",
   "execution_count": 23,
   "metadata": {},
   "outputs": [
    {
     "data": {
      "text/html": [
       "<div>\n",
       "<style scoped>\n",
       "    .dataframe tbody tr th:only-of-type {\n",
       "        vertical-align: middle;\n",
       "    }\n",
       "\n",
       "    .dataframe tbody tr th {\n",
       "        vertical-align: top;\n",
       "    }\n",
       "\n",
       "    .dataframe thead th {\n",
       "        text-align: right;\n",
       "    }\n",
       "</style>\n",
       "<table border=\"1\" class=\"dataframe\">\n",
       "  <thead>\n",
       "    <tr style=\"text-align: right;\">\n",
       "      <th></th>\n",
       "      <th>vend_id</th>\n",
       "      <th>vend_name</th>\n",
       "      <th>vend_address</th>\n",
       "      <th>vend_city</th>\n",
       "      <th>vend_state</th>\n",
       "      <th>vend_zip</th>\n",
       "      <th>vend_country</th>\n",
       "      <th>vend_phone</th>\n",
       "    </tr>\n",
       "  </thead>\n",
       "  <tbody>\n",
       "  </tbody>\n",
       "</table>\n",
       "</div>"
      ],
      "text/plain": [
       "Empty DataFrame\n",
       "Columns: [vend_id, vend_name, vend_address, vend_city, vend_state, vend_zip, vend_country, vend_phone]\n",
       "Index: []"
      ]
     },
     "execution_count": 23,
     "metadata": {},
     "output_type": "execute_result"
    }
   ],
   "source": [
    "ex4 = pd.read_sql(\"\"\"select * from VEND\"\"\", conn)\n",
    "ex4"
   ]
  },
  {
   "cell_type": "code",
   "execution_count": 28,
   "metadata": {},
   "outputs": [],
   "source": [
    "sql = \"\"\"\n",
    "        drop table VEND;\n",
    "        \"\"\""
   ]
  },
  {
   "cell_type": "code",
   "execution_count": 29,
   "metadata": {},
   "outputs": [],
   "source": [
    "cur = conn.cursor()\n",
    "cur.execute(sql)\n",
    "conn.commit()"
   ]
  },
  {
   "cell_type": "code",
   "execution_count": 30,
   "metadata": {},
   "outputs": [
    {
     "data": {
      "text/html": [
       "<div>\n",
       "<style scoped>\n",
       "    .dataframe tbody tr th:only-of-type {\n",
       "        vertical-align: middle;\n",
       "    }\n",
       "\n",
       "    .dataframe tbody tr th {\n",
       "        vertical-align: top;\n",
       "    }\n",
       "\n",
       "    .dataframe thead th {\n",
       "        text-align: right;\n",
       "    }\n",
       "</style>\n",
       "<table border=\"1\" class=\"dataframe\">\n",
       "  <thead>\n",
       "    <tr style=\"text-align: right;\">\n",
       "      <th></th>\n",
       "      <th>type</th>\n",
       "      <th>name</th>\n",
       "      <th>tbl_name</th>\n",
       "      <th>rootpage</th>\n",
       "      <th>sql</th>\n",
       "    </tr>\n",
       "  </thead>\n",
       "  <tbody>\n",
       "    <tr>\n",
       "      <th>0</th>\n",
       "      <td>table</td>\n",
       "      <td>Customers</td>\n",
       "      <td>Customers</td>\n",
       "      <td>2</td>\n",
       "      <td>CREATE TABLE Customers\\n(\\n  cust_id      char...</td>\n",
       "    </tr>\n",
       "    <tr>\n",
       "      <th>1</th>\n",
       "      <td>table</td>\n",
       "      <td>OrderItems</td>\n",
       "      <td>OrderItems</td>\n",
       "      <td>4</td>\n",
       "      <td>CREATE TABLE OrderItems\\n(\\n  order_num  int  ...</td>\n",
       "    </tr>\n",
       "    <tr>\n",
       "      <th>2</th>\n",
       "      <td>table</td>\n",
       "      <td>Orders</td>\n",
       "      <td>Orders</td>\n",
       "      <td>7</td>\n",
       "      <td>CREATE TABLE Orders\\n(\\n  order_num  int      ...</td>\n",
       "    </tr>\n",
       "    <tr>\n",
       "      <th>3</th>\n",
       "      <td>table</td>\n",
       "      <td>Products</td>\n",
       "      <td>Products</td>\n",
       "      <td>10</td>\n",
       "      <td>CREATE TABLE Products\\n(\\n  prod_id    char(10...</td>\n",
       "    </tr>\n",
       "    <tr>\n",
       "      <th>4</th>\n",
       "      <td>table</td>\n",
       "      <td>Vendors</td>\n",
       "      <td>Vendors</td>\n",
       "      <td>12</td>\n",
       "      <td>CREATE TABLE Vendors\\n(\\n  vend_id      char(1...</td>\n",
       "    </tr>\n",
       "    <tr>\n",
       "      <th>5</th>\n",
       "      <td>table</td>\n",
       "      <td>PPD</td>\n",
       "      <td>PPD</td>\n",
       "      <td>15</td>\n",
       "      <td>CREATE TABLE PPD\\n        ( \\n          prod_i...</td>\n",
       "    </tr>\n",
       "    <tr>\n",
       "      <th>6</th>\n",
       "      <td>table</td>\n",
       "      <td>ORD</td>\n",
       "      <td>ORD</td>\n",
       "      <td>16</td>\n",
       "      <td>CREATE TABLE ORD\\n        ( \\n          order_...</td>\n",
       "    </tr>\n",
       "  </tbody>\n",
       "</table>\n",
       "</div>"
      ],
      "text/plain": [
       "    type        name    tbl_name  rootpage  \\\n",
       "0  table   Customers   Customers         2   \n",
       "1  table  OrderItems  OrderItems         4   \n",
       "2  table      Orders      Orders         7   \n",
       "3  table    Products    Products        10   \n",
       "4  table     Vendors     Vendors        12   \n",
       "5  table         PPD         PPD        15   \n",
       "6  table         ORD         ORD        16   \n",
       "\n",
       "                                                 sql  \n",
       "0  CREATE TABLE Customers\\n(\\n  cust_id      char...  \n",
       "1  CREATE TABLE OrderItems\\n(\\n  order_num  int  ...  \n",
       "2  CREATE TABLE Orders\\n(\\n  order_num  int      ...  \n",
       "3  CREATE TABLE Products\\n(\\n  prod_id    char(10...  \n",
       "4  CREATE TABLE Vendors\\n(\\n  vend_id      char(1...  \n",
       "5  CREATE TABLE PPD\\n        ( \\n          prod_i...  \n",
       "6  CREATE TABLE ORD\\n        ( \\n          order_...  "
      ]
     },
     "execution_count": 30,
     "metadata": {},
     "output_type": "execute_result"
    }
   ],
   "source": [
    "ex5 = pd.read_sql(\"\"\"SELECT * FROM sqlite_master WHERE type = 'table';\"\"\", conn)\n",
    "ex5"
   ]
  },
  {
   "cell_type": "markdown",
   "metadata": {},
   "source": [
    "View"
   ]
  },
  {
   "cell_type": "code",
   "execution_count": 31,
   "metadata": {},
   "outputs": [],
   "source": [
    "sql = \"\"\"\n",
    "        select cust_name, cust_contact\n",
    "        from Customers, Orders, OrderItems\n",
    "        where Customers.cust_id = Orders.cust_id\n",
    "        and OrderItems.order_num = Orders.order_num\n",
    "        and prod_id = 'RGAN01';\n",
    "        \"\"\""
   ]
  },
  {
   "cell_type": "code",
   "execution_count": 32,
   "metadata": {},
   "outputs": [
    {
     "data": {
      "text/html": [
       "<div>\n",
       "<style scoped>\n",
       "    .dataframe tbody tr th:only-of-type {\n",
       "        vertical-align: middle;\n",
       "    }\n",
       "\n",
       "    .dataframe tbody tr th {\n",
       "        vertical-align: top;\n",
       "    }\n",
       "\n",
       "    .dataframe thead th {\n",
       "        text-align: right;\n",
       "    }\n",
       "</style>\n",
       "<table border=\"1\" class=\"dataframe\">\n",
       "  <thead>\n",
       "    <tr style=\"text-align: right;\">\n",
       "      <th></th>\n",
       "      <th>cust_name</th>\n",
       "      <th>cust_contact</th>\n",
       "    </tr>\n",
       "  </thead>\n",
       "  <tbody>\n",
       "    <tr>\n",
       "      <th>0</th>\n",
       "      <td>Fun4All</td>\n",
       "      <td>Denise L. Stephens</td>\n",
       "    </tr>\n",
       "    <tr>\n",
       "      <th>1</th>\n",
       "      <td>The Toy Store</td>\n",
       "      <td>Kim Howard</td>\n",
       "    </tr>\n",
       "  </tbody>\n",
       "</table>\n",
       "</div>"
      ],
      "text/plain": [
       "       cust_name        cust_contact\n",
       "0        Fun4All  Denise L. Stephens\n",
       "1  The Toy Store          Kim Howard"
      ]
     },
     "execution_count": 32,
     "metadata": {},
     "output_type": "execute_result"
    }
   ],
   "source": [
    "ex6 = pd.read_sql(sql, conn)\n",
    "ex6"
   ]
  },
  {
   "cell_type": "code",
   "execution_count": 33,
   "metadata": {},
   "outputs": [],
   "source": [
    "sql = \"\"\"\n",
    "        create view ProductCustomers as\n",
    "        select cust_name, cust_contact, prod_id\n",
    "        from Customers, Orders, OrderItems\n",
    "        where Customers.cust_id = Orders.cust_id\n",
    "        and OrderItems.order_num = Orders.order_num;\n",
    "        \"\"\""
   ]
  },
  {
   "cell_type": "code",
   "execution_count": 34,
   "metadata": {},
   "outputs": [],
   "source": [
    "cur = conn.cursor()\n",
    "cur.execute(sql)\n",
    "conn.commit()"
   ]
  },
  {
   "cell_type": "code",
   "execution_count": 35,
   "metadata": {},
   "outputs": [
    {
     "data": {
      "text/html": [
       "<div>\n",
       "<style scoped>\n",
       "    .dataframe tbody tr th:only-of-type {\n",
       "        vertical-align: middle;\n",
       "    }\n",
       "\n",
       "    .dataframe tbody tr th {\n",
       "        vertical-align: top;\n",
       "    }\n",
       "\n",
       "    .dataframe thead th {\n",
       "        text-align: right;\n",
       "    }\n",
       "</style>\n",
       "<table border=\"1\" class=\"dataframe\">\n",
       "  <thead>\n",
       "    <tr style=\"text-align: right;\">\n",
       "      <th></th>\n",
       "      <th>cust_name</th>\n",
       "      <th>cust_contact</th>\n",
       "      <th>prod_id</th>\n",
       "    </tr>\n",
       "  </thead>\n",
       "  <tbody>\n",
       "    <tr>\n",
       "      <th>0</th>\n",
       "      <td>Village Toys</td>\n",
       "      <td>John Smith</td>\n",
       "      <td>BR01</td>\n",
       "    </tr>\n",
       "    <tr>\n",
       "      <th>1</th>\n",
       "      <td>Village Toys</td>\n",
       "      <td>John Smith</td>\n",
       "      <td>BR03</td>\n",
       "    </tr>\n",
       "    <tr>\n",
       "      <th>2</th>\n",
       "      <td>Fun4All</td>\n",
       "      <td>Jim Jones</td>\n",
       "      <td>BR01</td>\n",
       "    </tr>\n",
       "    <tr>\n",
       "      <th>3</th>\n",
       "      <td>Fun4All</td>\n",
       "      <td>Jim Jones</td>\n",
       "      <td>BR02</td>\n",
       "    </tr>\n",
       "    <tr>\n",
       "      <th>4</th>\n",
       "      <td>Fun4All</td>\n",
       "      <td>Jim Jones</td>\n",
       "      <td>BR03</td>\n",
       "    </tr>\n",
       "    <tr>\n",
       "      <th>5</th>\n",
       "      <td>Fun4All</td>\n",
       "      <td>Denise L. Stephens</td>\n",
       "      <td>BR03</td>\n",
       "    </tr>\n",
       "    <tr>\n",
       "      <th>6</th>\n",
       "      <td>Fun4All</td>\n",
       "      <td>Denise L. Stephens</td>\n",
       "      <td>BNBG01</td>\n",
       "    </tr>\n",
       "    <tr>\n",
       "      <th>7</th>\n",
       "      <td>Fun4All</td>\n",
       "      <td>Denise L. Stephens</td>\n",
       "      <td>BNBG02</td>\n",
       "    </tr>\n",
       "    <tr>\n",
       "      <th>8</th>\n",
       "      <td>Fun4All</td>\n",
       "      <td>Denise L. Stephens</td>\n",
       "      <td>BNBG03</td>\n",
       "    </tr>\n",
       "    <tr>\n",
       "      <th>9</th>\n",
       "      <td>Fun4All</td>\n",
       "      <td>Denise L. Stephens</td>\n",
       "      <td>RGAN01</td>\n",
       "    </tr>\n",
       "    <tr>\n",
       "      <th>10</th>\n",
       "      <td>The Toy Store</td>\n",
       "      <td>Kim Howard</td>\n",
       "      <td>RGAN01</td>\n",
       "    </tr>\n",
       "    <tr>\n",
       "      <th>11</th>\n",
       "      <td>The Toy Store</td>\n",
       "      <td>Kim Howard</td>\n",
       "      <td>BR03</td>\n",
       "    </tr>\n",
       "    <tr>\n",
       "      <th>12</th>\n",
       "      <td>The Toy Store</td>\n",
       "      <td>Kim Howard</td>\n",
       "      <td>BNBG01</td>\n",
       "    </tr>\n",
       "    <tr>\n",
       "      <th>13</th>\n",
       "      <td>The Toy Store</td>\n",
       "      <td>Kim Howard</td>\n",
       "      <td>BNBG02</td>\n",
       "    </tr>\n",
       "    <tr>\n",
       "      <th>14</th>\n",
       "      <td>The Toy Store</td>\n",
       "      <td>Kim Howard</td>\n",
       "      <td>BNBG03</td>\n",
       "    </tr>\n",
       "    <tr>\n",
       "      <th>15</th>\n",
       "      <td>Village Toys</td>\n",
       "      <td>John Smith</td>\n",
       "      <td>BNBG01</td>\n",
       "    </tr>\n",
       "    <tr>\n",
       "      <th>16</th>\n",
       "      <td>Village Toys</td>\n",
       "      <td>John Smith</td>\n",
       "      <td>BNBG02</td>\n",
       "    </tr>\n",
       "    <tr>\n",
       "      <th>17</th>\n",
       "      <td>Village Toys</td>\n",
       "      <td>John Smith</td>\n",
       "      <td>BNBG03</td>\n",
       "    </tr>\n",
       "  </tbody>\n",
       "</table>\n",
       "</div>"
      ],
      "text/plain": [
       "        cust_name        cust_contact prod_id\n",
       "0    Village Toys          John Smith    BR01\n",
       "1    Village Toys          John Smith    BR03\n",
       "2         Fun4All           Jim Jones    BR01\n",
       "3         Fun4All           Jim Jones    BR02\n",
       "4         Fun4All           Jim Jones    BR03\n",
       "5         Fun4All  Denise L. Stephens    BR03\n",
       "6         Fun4All  Denise L. Stephens  BNBG01\n",
       "7         Fun4All  Denise L. Stephens  BNBG02\n",
       "8         Fun4All  Denise L. Stephens  BNBG03\n",
       "9         Fun4All  Denise L. Stephens  RGAN01\n",
       "10  The Toy Store          Kim Howard  RGAN01\n",
       "11  The Toy Store          Kim Howard    BR03\n",
       "12  The Toy Store          Kim Howard  BNBG01\n",
       "13  The Toy Store          Kim Howard  BNBG02\n",
       "14  The Toy Store          Kim Howard  BNBG03\n",
       "15   Village Toys          John Smith  BNBG01\n",
       "16   Village Toys          John Smith  BNBG02\n",
       "17   Village Toys          John Smith  BNBG03"
      ]
     },
     "execution_count": 35,
     "metadata": {},
     "output_type": "execute_result"
    }
   ],
   "source": [
    "ex7 = pd.read_sql(\"\"\"SELECT * FROM ProductCustomers\"\"\", conn)\n",
    "ex7"
   ]
  },
  {
   "cell_type": "code",
   "execution_count": 36,
   "metadata": {},
   "outputs": [],
   "source": [
    "sql = \"\"\"\n",
    "        select cust_name, cust_contact\n",
    "        from ProductCustomers\n",
    "        where prod_id = 'RGAN01';\n",
    "        \"\"\""
   ]
  },
  {
   "cell_type": "code",
   "execution_count": 37,
   "metadata": {},
   "outputs": [
    {
     "data": {
      "text/html": [
       "<div>\n",
       "<style scoped>\n",
       "    .dataframe tbody tr th:only-of-type {\n",
       "        vertical-align: middle;\n",
       "    }\n",
       "\n",
       "    .dataframe tbody tr th {\n",
       "        vertical-align: top;\n",
       "    }\n",
       "\n",
       "    .dataframe thead th {\n",
       "        text-align: right;\n",
       "    }\n",
       "</style>\n",
       "<table border=\"1\" class=\"dataframe\">\n",
       "  <thead>\n",
       "    <tr style=\"text-align: right;\">\n",
       "      <th></th>\n",
       "      <th>cust_name</th>\n",
       "      <th>cust_contact</th>\n",
       "    </tr>\n",
       "  </thead>\n",
       "  <tbody>\n",
       "    <tr>\n",
       "      <th>0</th>\n",
       "      <td>Fun4All</td>\n",
       "      <td>Denise L. Stephens</td>\n",
       "    </tr>\n",
       "    <tr>\n",
       "      <th>1</th>\n",
       "      <td>The Toy Store</td>\n",
       "      <td>Kim Howard</td>\n",
       "    </tr>\n",
       "  </tbody>\n",
       "</table>\n",
       "</div>"
      ],
      "text/plain": [
       "       cust_name        cust_contact\n",
       "0        Fun4All  Denise L. Stephens\n",
       "1  The Toy Store          Kim Howard"
      ]
     },
     "execution_count": 37,
     "metadata": {},
     "output_type": "execute_result"
    }
   ],
   "source": [
    "ex8 = pd.read_sql(sql, conn)\n",
    "ex8"
   ]
  },
  {
   "cell_type": "code",
   "execution_count": 38,
   "metadata": {},
   "outputs": [],
   "source": [
    "sql = \"\"\"\n",
    "        select TRIM(vend_name) || ' (' || TRIM(vend_country) || ')'\n",
    "        as vend_title\n",
    "        from Vendors\n",
    "        order by vend_name;\n",
    "        \"\"\""
   ]
  },
  {
   "cell_type": "markdown",
   "metadata": {},
   "source": [
    "some other sql platforms may use '+' instead of '||'"
   ]
  },
  {
   "cell_type": "code",
   "execution_count": 39,
   "metadata": {},
   "outputs": [
    {
     "data": {
      "text/html": [
       "<div>\n",
       "<style scoped>\n",
       "    .dataframe tbody tr th:only-of-type {\n",
       "        vertical-align: middle;\n",
       "    }\n",
       "\n",
       "    .dataframe tbody tr th {\n",
       "        vertical-align: top;\n",
       "    }\n",
       "\n",
       "    .dataframe thead th {\n",
       "        text-align: right;\n",
       "    }\n",
       "</style>\n",
       "<table border=\"1\" class=\"dataframe\">\n",
       "  <thead>\n",
       "    <tr style=\"text-align: right;\">\n",
       "      <th></th>\n",
       "      <th>vend_title</th>\n",
       "    </tr>\n",
       "  </thead>\n",
       "  <tbody>\n",
       "    <tr>\n",
       "      <th>0</th>\n",
       "      <td>Bear Emporium (USA)</td>\n",
       "    </tr>\n",
       "    <tr>\n",
       "      <th>1</th>\n",
       "      <td>Bears R Us (USA)</td>\n",
       "    </tr>\n",
       "    <tr>\n",
       "      <th>2</th>\n",
       "      <td>Doll House Inc. (USA)</td>\n",
       "    </tr>\n",
       "    <tr>\n",
       "      <th>3</th>\n",
       "      <td>Fun and Games (England)</td>\n",
       "    </tr>\n",
       "    <tr>\n",
       "      <th>4</th>\n",
       "      <td>Furball Inc. (USA)</td>\n",
       "    </tr>\n",
       "    <tr>\n",
       "      <th>5</th>\n",
       "      <td>Jouets et ours (France)</td>\n",
       "    </tr>\n",
       "  </tbody>\n",
       "</table>\n",
       "</div>"
      ],
      "text/plain": [
       "                vend_title\n",
       "0      Bear Emporium (USA)\n",
       "1         Bears R Us (USA)\n",
       "2    Doll House Inc. (USA)\n",
       "3  Fun and Games (England)\n",
       "4       Furball Inc. (USA)\n",
       "5  Jouets et ours (France)"
      ]
     },
     "execution_count": 39,
     "metadata": {},
     "output_type": "execute_result"
    }
   ],
   "source": [
    "ex9 = pd.read_sql(sql, conn)\n",
    "ex9"
   ]
  },
  {
   "cell_type": "code",
   "execution_count": 42,
   "metadata": {},
   "outputs": [],
   "source": [
    "sql = \"\"\"\n",
    "        create view VendorLocations as\n",
    "        select TRIM(vend_name) || ' (' || TRIM(vend_country) || ')'\n",
    "        as vend_title\n",
    "        from Vendors;\n",
    "        \"\"\""
   ]
  },
  {
   "cell_type": "code",
   "execution_count": 43,
   "metadata": {},
   "outputs": [],
   "source": [
    "cur = conn.cursor()\n",
    "cur.execute(sql)\n",
    "conn.commit()"
   ]
  },
  {
   "cell_type": "code",
   "execution_count": 44,
   "metadata": {},
   "outputs": [
    {
     "data": {
      "text/html": [
       "<div>\n",
       "<style scoped>\n",
       "    .dataframe tbody tr th:only-of-type {\n",
       "        vertical-align: middle;\n",
       "    }\n",
       "\n",
       "    .dataframe tbody tr th {\n",
       "        vertical-align: top;\n",
       "    }\n",
       "\n",
       "    .dataframe thead th {\n",
       "        text-align: right;\n",
       "    }\n",
       "</style>\n",
       "<table border=\"1\" class=\"dataframe\">\n",
       "  <thead>\n",
       "    <tr style=\"text-align: right;\">\n",
       "      <th></th>\n",
       "      <th>vend_title</th>\n",
       "    </tr>\n",
       "  </thead>\n",
       "  <tbody>\n",
       "    <tr>\n",
       "      <th>0</th>\n",
       "      <td>Bears R Us (USA)</td>\n",
       "    </tr>\n",
       "    <tr>\n",
       "      <th>1</th>\n",
       "      <td>Bear Emporium (USA)</td>\n",
       "    </tr>\n",
       "    <tr>\n",
       "      <th>2</th>\n",
       "      <td>Doll House Inc. (USA)</td>\n",
       "    </tr>\n",
       "    <tr>\n",
       "      <th>3</th>\n",
       "      <td>Furball Inc. (USA)</td>\n",
       "    </tr>\n",
       "    <tr>\n",
       "      <th>4</th>\n",
       "      <td>Fun and Games (England)</td>\n",
       "    </tr>\n",
       "    <tr>\n",
       "      <th>5</th>\n",
       "      <td>Jouets et ours (France)</td>\n",
       "    </tr>\n",
       "  </tbody>\n",
       "</table>\n",
       "</div>"
      ],
      "text/plain": [
       "                vend_title\n",
       "0         Bears R Us (USA)\n",
       "1      Bear Emporium (USA)\n",
       "2    Doll House Inc. (USA)\n",
       "3       Furball Inc. (USA)\n",
       "4  Fun and Games (England)\n",
       "5  Jouets et ours (France)"
      ]
     },
     "execution_count": 44,
     "metadata": {},
     "output_type": "execute_result"
    }
   ],
   "source": [
    "ex10 = pd.read_sql(\"\"\"select * from VendorLocations;\"\"\", conn)\n",
    "ex10"
   ]
  },
  {
   "cell_type": "code",
   "execution_count": 45,
   "metadata": {},
   "outputs": [],
   "source": [
    "sql = \"\"\"\n",
    "        create view CustomerEmailList as\n",
    "        select cust_id, cust_name, cust_email\n",
    "        from Customers\n",
    "        where cust_email is not NULL;\n",
    "        \"\"\""
   ]
  },
  {
   "cell_type": "code",
   "execution_count": 46,
   "metadata": {},
   "outputs": [],
   "source": [
    "cur = conn.cursor()\n",
    "cur.execute(sql)\n",
    "conn.commit()"
   ]
  },
  {
   "cell_type": "code",
   "execution_count": 47,
   "metadata": {},
   "outputs": [
    {
     "data": {
      "text/html": [
       "<div>\n",
       "<style scoped>\n",
       "    .dataframe tbody tr th:only-of-type {\n",
       "        vertical-align: middle;\n",
       "    }\n",
       "\n",
       "    .dataframe tbody tr th {\n",
       "        vertical-align: top;\n",
       "    }\n",
       "\n",
       "    .dataframe thead th {\n",
       "        text-align: right;\n",
       "    }\n",
       "</style>\n",
       "<table border=\"1\" class=\"dataframe\">\n",
       "  <thead>\n",
       "    <tr style=\"text-align: right;\">\n",
       "      <th></th>\n",
       "      <th>cust_id</th>\n",
       "      <th>cust_name</th>\n",
       "      <th>cust_email</th>\n",
       "    </tr>\n",
       "  </thead>\n",
       "  <tbody>\n",
       "    <tr>\n",
       "      <th>0</th>\n",
       "      <td>1000000001</td>\n",
       "      <td>Village Toys</td>\n",
       "      <td>sales@villagetoys.com</td>\n",
       "    </tr>\n",
       "    <tr>\n",
       "      <th>1</th>\n",
       "      <td>1000000003</td>\n",
       "      <td>Fun4All</td>\n",
       "      <td>jjones@fun4all.com</td>\n",
       "    </tr>\n",
       "    <tr>\n",
       "      <th>2</th>\n",
       "      <td>1000000004</td>\n",
       "      <td>Fun4All</td>\n",
       "      <td>dstephens@fun4all.com</td>\n",
       "    </tr>\n",
       "  </tbody>\n",
       "</table>\n",
       "</div>"
      ],
      "text/plain": [
       "      cust_id     cust_name             cust_email\n",
       "0  1000000001  Village Toys  sales@villagetoys.com\n",
       "1  1000000003       Fun4All     jjones@fun4all.com\n",
       "2  1000000004       Fun4All  dstephens@fun4all.com"
      ]
     },
     "execution_count": 47,
     "metadata": {},
     "output_type": "execute_result"
    }
   ],
   "source": [
    "ex11 = pd.read_sql(\"\"\"select * from CustomerEmailList;\"\"\", conn)\n",
    "ex11"
   ]
  },
  {
   "cell_type": "markdown",
   "metadata": {},
   "source": [
    "View with Calculation"
   ]
  },
  {
   "cell_type": "code",
   "execution_count": 48,
   "metadata": {},
   "outputs": [],
   "source": [
    "sql = \"\"\"\n",
    "        select prod_id, quantity, item_price, quantity * item_price as expanded_price\n",
    "        from OrderItems\n",
    "        where order_num = 20008;\n",
    "        \"\"\""
   ]
  },
  {
   "cell_type": "code",
   "execution_count": 49,
   "metadata": {},
   "outputs": [
    {
     "data": {
      "text/html": [
       "<div>\n",
       "<style scoped>\n",
       "    .dataframe tbody tr th:only-of-type {\n",
       "        vertical-align: middle;\n",
       "    }\n",
       "\n",
       "    .dataframe tbody tr th {\n",
       "        vertical-align: top;\n",
       "    }\n",
       "\n",
       "    .dataframe thead th {\n",
       "        text-align: right;\n",
       "    }\n",
       "</style>\n",
       "<table border=\"1\" class=\"dataframe\">\n",
       "  <thead>\n",
       "    <tr style=\"text-align: right;\">\n",
       "      <th></th>\n",
       "      <th>prod_id</th>\n",
       "      <th>quantity</th>\n",
       "      <th>item_price</th>\n",
       "      <th>expanded_price</th>\n",
       "    </tr>\n",
       "  </thead>\n",
       "  <tbody>\n",
       "    <tr>\n",
       "      <th>0</th>\n",
       "      <td>RGAN01</td>\n",
       "      <td>5</td>\n",
       "      <td>4.99</td>\n",
       "      <td>24.95</td>\n",
       "    </tr>\n",
       "    <tr>\n",
       "      <th>1</th>\n",
       "      <td>BR03</td>\n",
       "      <td>5</td>\n",
       "      <td>11.99</td>\n",
       "      <td>59.95</td>\n",
       "    </tr>\n",
       "    <tr>\n",
       "      <th>2</th>\n",
       "      <td>BNBG01</td>\n",
       "      <td>10</td>\n",
       "      <td>3.49</td>\n",
       "      <td>34.90</td>\n",
       "    </tr>\n",
       "    <tr>\n",
       "      <th>3</th>\n",
       "      <td>BNBG02</td>\n",
       "      <td>10</td>\n",
       "      <td>3.49</td>\n",
       "      <td>34.90</td>\n",
       "    </tr>\n",
       "    <tr>\n",
       "      <th>4</th>\n",
       "      <td>BNBG03</td>\n",
       "      <td>10</td>\n",
       "      <td>3.49</td>\n",
       "      <td>34.90</td>\n",
       "    </tr>\n",
       "  </tbody>\n",
       "</table>\n",
       "</div>"
      ],
      "text/plain": [
       "  prod_id  quantity  item_price  expanded_price\n",
       "0  RGAN01         5        4.99           24.95\n",
       "1    BR03         5       11.99           59.95\n",
       "2  BNBG01        10        3.49           34.90\n",
       "3  BNBG02        10        3.49           34.90\n",
       "4  BNBG03        10        3.49           34.90"
      ]
     },
     "execution_count": 49,
     "metadata": {},
     "output_type": "execute_result"
    }
   ],
   "source": [
    "ex12 = pd.read_sql(sql, conn)\n",
    "ex12"
   ]
  },
  {
   "cell_type": "code",
   "execution_count": 50,
   "metadata": {},
   "outputs": [],
   "source": [
    "sql = \"\"\"\n",
    "        create view OrderItemsExpanded as\n",
    "        select order_num, prod_id, quantity, item_price, quantity * item_price as expanded_price\n",
    "        from OrderItems;\n",
    "        \"\"\""
   ]
  },
  {
   "cell_type": "code",
   "execution_count": 51,
   "metadata": {},
   "outputs": [],
   "source": [
    "cur = conn.cursor()\n",
    "cur.execute(sql)\n",
    "conn.commit()"
   ]
  },
  {
   "cell_type": "code",
   "execution_count": 52,
   "metadata": {},
   "outputs": [
    {
     "data": {
      "text/html": [
       "<div>\n",
       "<style scoped>\n",
       "    .dataframe tbody tr th:only-of-type {\n",
       "        vertical-align: middle;\n",
       "    }\n",
       "\n",
       "    .dataframe tbody tr th {\n",
       "        vertical-align: top;\n",
       "    }\n",
       "\n",
       "    .dataframe thead th {\n",
       "        text-align: right;\n",
       "    }\n",
       "</style>\n",
       "<table border=\"1\" class=\"dataframe\">\n",
       "  <thead>\n",
       "    <tr style=\"text-align: right;\">\n",
       "      <th></th>\n",
       "      <th>order_num</th>\n",
       "      <th>prod_id</th>\n",
       "      <th>quantity</th>\n",
       "      <th>item_price</th>\n",
       "      <th>expanded_price</th>\n",
       "    </tr>\n",
       "  </thead>\n",
       "  <tbody>\n",
       "    <tr>\n",
       "      <th>0</th>\n",
       "      <td>20008</td>\n",
       "      <td>RGAN01</td>\n",
       "      <td>5</td>\n",
       "      <td>4.99</td>\n",
       "      <td>24.95</td>\n",
       "    </tr>\n",
       "    <tr>\n",
       "      <th>1</th>\n",
       "      <td>20008</td>\n",
       "      <td>BR03</td>\n",
       "      <td>5</td>\n",
       "      <td>11.99</td>\n",
       "      <td>59.95</td>\n",
       "    </tr>\n",
       "    <tr>\n",
       "      <th>2</th>\n",
       "      <td>20008</td>\n",
       "      <td>BNBG01</td>\n",
       "      <td>10</td>\n",
       "      <td>3.49</td>\n",
       "      <td>34.90</td>\n",
       "    </tr>\n",
       "    <tr>\n",
       "      <th>3</th>\n",
       "      <td>20008</td>\n",
       "      <td>BNBG02</td>\n",
       "      <td>10</td>\n",
       "      <td>3.49</td>\n",
       "      <td>34.90</td>\n",
       "    </tr>\n",
       "    <tr>\n",
       "      <th>4</th>\n",
       "      <td>20008</td>\n",
       "      <td>BNBG03</td>\n",
       "      <td>10</td>\n",
       "      <td>3.49</td>\n",
       "      <td>34.90</td>\n",
       "    </tr>\n",
       "  </tbody>\n",
       "</table>\n",
       "</div>"
      ],
      "text/plain": [
       "   order_num prod_id  quantity  item_price  expanded_price\n",
       "0      20008  RGAN01         5        4.99           24.95\n",
       "1      20008    BR03         5       11.99           59.95\n",
       "2      20008  BNBG01        10        3.49           34.90\n",
       "3      20008  BNBG02        10        3.49           34.90\n",
       "4      20008  BNBG03        10        3.49           34.90"
      ]
     },
     "execution_count": 52,
     "metadata": {},
     "output_type": "execute_result"
    }
   ],
   "source": [
    "ex13 = pd.read_sql(\"\"\"select * from OrderItemsExpanded where order_num = 20008;\"\"\", conn)\n",
    "ex13"
   ]
  },
  {
   "cell_type": "markdown",
   "metadata": {},
   "source": [
    "`SAVING` is not covered in this series of operations based on SQLite."
   ]
  },
  {
   "cell_type": "markdown",
   "metadata": {},
   "source": [
    "`transaction processing`\n",
    "\n",
    "`TRANSACTION`: a group of sql languages;\n",
    "\n",
    "`ROLLBACK`: cancel the given sql languages;\n",
    "\n",
    "`COMMIT`: write the sql language in the database;\n",
    "\n",
    "`SAVEPOINT`: temperory placeholder.\n",
    "\n",
    "`CURSOR`"
   ]
  },
  {
   "cell_type": "markdown",
   "metadata": {},
   "source": [
    "`Constraint`: manage rules for database.\n",
    "\n",
    "`PRIMARY KEY`"
   ]
  },
  {
   "cell_type": "code",
   "execution_count": 56,
   "metadata": {},
   "outputs": [],
   "source": [
    "sql = \"\"\"\n",
    "        create table VENDNEW\n",
    "        ( \n",
    "          vend_id            CHAR(10)                 NOT NULL              PRIMARY KEY,\n",
    "          vend_name       CHAR(50)                NOT NULL,\n",
    "          vend_address    CHAR(50)                       NULL,\n",
    "          vend_city          CHAR(50)                       NULL,\n",
    "          vend_state        CHAR(5)                         NULL,\n",
    "          vend_zip           CHAR(10)                        NULL,\n",
    "          vend_country    CHAR(50)                        NULL\n",
    "        );\n",
    "        \"\"\""
   ]
  },
  {
   "cell_type": "code",
   "execution_count": 57,
   "metadata": {},
   "outputs": [],
   "source": [
    "cur = conn.cursor()\n",
    "cur.execute(sql)\n",
    "conn.commit()"
   ]
  },
  {
   "cell_type": "code",
   "execution_count": 58,
   "metadata": {},
   "outputs": [
    {
     "data": {
      "text/html": [
       "<div>\n",
       "<style scoped>\n",
       "    .dataframe tbody tr th:only-of-type {\n",
       "        vertical-align: middle;\n",
       "    }\n",
       "\n",
       "    .dataframe tbody tr th {\n",
       "        vertical-align: top;\n",
       "    }\n",
       "\n",
       "    .dataframe thead th {\n",
       "        text-align: right;\n",
       "    }\n",
       "</style>\n",
       "<table border=\"1\" class=\"dataframe\">\n",
       "  <thead>\n",
       "    <tr style=\"text-align: right;\">\n",
       "      <th></th>\n",
       "      <th>vend_id</th>\n",
       "      <th>vend_name</th>\n",
       "      <th>vend_address</th>\n",
       "      <th>vend_city</th>\n",
       "      <th>vend_state</th>\n",
       "      <th>vend_zip</th>\n",
       "      <th>vend_country</th>\n",
       "    </tr>\n",
       "  </thead>\n",
       "  <tbody>\n",
       "  </tbody>\n",
       "</table>\n",
       "</div>"
      ],
      "text/plain": [
       "Empty DataFrame\n",
       "Columns: [vend_id, vend_name, vend_address, vend_city, vend_state, vend_zip, vend_country]\n",
       "Index: []"
      ]
     },
     "execution_count": 58,
     "metadata": {},
     "output_type": "execute_result"
    }
   ],
   "source": [
    "ex14 = pd.read_sql(\"\"\"select * from VENDNEW;\"\"\", conn)\n",
    "ex14"
   ]
  },
  {
   "cell_type": "markdown",
   "metadata": {},
   "source": [
    "`REFERENCES`"
   ]
  },
  {
   "cell_type": "code",
   "execution_count": 59,
   "metadata": {},
   "outputs": [],
   "source": [
    "sql = \"\"\"\n",
    "        create table ORDNEW\n",
    "        ( \n",
    "          order_num        INTEGER                 NOT NULL              PRIMARY KEY,\n",
    "          order_date        DATETIME               NOT NULL,\n",
    "          cust_id             CHAR(10)                 NOT NULL             REFERENCES Customers(cust_id)\n",
    "        );\n",
    "        \"\"\""
   ]
  },
  {
   "cell_type": "code",
   "execution_count": 60,
   "metadata": {},
   "outputs": [],
   "source": [
    "cur = conn.cursor()\n",
    "cur.execute(sql)\n",
    "conn.commit()"
   ]
  },
  {
   "cell_type": "code",
   "execution_count": 61,
   "metadata": {},
   "outputs": [
    {
     "data": {
      "text/html": [
       "<div>\n",
       "<style scoped>\n",
       "    .dataframe tbody tr th:only-of-type {\n",
       "        vertical-align: middle;\n",
       "    }\n",
       "\n",
       "    .dataframe tbody tr th {\n",
       "        vertical-align: top;\n",
       "    }\n",
       "\n",
       "    .dataframe thead th {\n",
       "        text-align: right;\n",
       "    }\n",
       "</style>\n",
       "<table border=\"1\" class=\"dataframe\">\n",
       "  <thead>\n",
       "    <tr style=\"text-align: right;\">\n",
       "      <th></th>\n",
       "      <th>order_num</th>\n",
       "      <th>order_date</th>\n",
       "      <th>cust_id</th>\n",
       "    </tr>\n",
       "  </thead>\n",
       "  <tbody>\n",
       "  </tbody>\n",
       "</table>\n",
       "</div>"
      ],
      "text/plain": [
       "Empty DataFrame\n",
       "Columns: [order_num, order_date, cust_id]\n",
       "Index: []"
      ]
     },
     "execution_count": 61,
     "metadata": {},
     "output_type": "execute_result"
    }
   ],
   "source": [
    "ex15 = pd.read_sql(\"\"\"select * from ORDNEW;\"\"\", conn)\n",
    "ex15"
   ]
  },
  {
   "cell_type": "markdown",
   "metadata": {},
   "source": [
    "`CHECK`"
   ]
  },
  {
   "cell_type": "code",
   "execution_count": 62,
   "metadata": {},
   "outputs": [],
   "source": [
    "sql = \"\"\"\n",
    "        create table ORDIT\n",
    "        ( \n",
    "          order_num        INTEGER                 NOT NULL,\n",
    "          order_item        INTEGER                 NOT NULL,\n",
    "          prod_id             CHAR(10)                NOT NULL,\n",
    "          quantity            INTEGER                 NOT NULL            CHECK (quantity > 0),\n",
    "          item_price         MONEY                   NOT NULL\n",
    "        );\n",
    "        \"\"\""
   ]
  },
  {
   "cell_type": "code",
   "execution_count": 63,
   "metadata": {},
   "outputs": [],
   "source": [
    "cur = conn.cursor()\n",
    "cur.execute(sql)\n",
    "conn.commit()"
   ]
  },
  {
   "cell_type": "code",
   "execution_count": 64,
   "metadata": {},
   "outputs": [
    {
     "data": {
      "text/html": [
       "<div>\n",
       "<style scoped>\n",
       "    .dataframe tbody tr th:only-of-type {\n",
       "        vertical-align: middle;\n",
       "    }\n",
       "\n",
       "    .dataframe tbody tr th {\n",
       "        vertical-align: top;\n",
       "    }\n",
       "\n",
       "    .dataframe thead th {\n",
       "        text-align: right;\n",
       "    }\n",
       "</style>\n",
       "<table border=\"1\" class=\"dataframe\">\n",
       "  <thead>\n",
       "    <tr style=\"text-align: right;\">\n",
       "      <th></th>\n",
       "      <th>order_num</th>\n",
       "      <th>order_item</th>\n",
       "      <th>prod_id</th>\n",
       "      <th>quantity</th>\n",
       "      <th>item_price</th>\n",
       "    </tr>\n",
       "  </thead>\n",
       "  <tbody>\n",
       "  </tbody>\n",
       "</table>\n",
       "</div>"
      ],
      "text/plain": [
       "Empty DataFrame\n",
       "Columns: [order_num, order_item, prod_id, quantity, item_price]\n",
       "Index: []"
      ]
     },
     "execution_count": 64,
     "metadata": {},
     "output_type": "execute_result"
    }
   ],
   "source": [
    "ex16 = pd.read_sql(\"\"\"select * from ORDIT;\"\"\", conn)\n",
    "ex16"
   ]
  },
  {
   "cell_type": "markdown",
   "metadata": {},
   "source": [
    "`INDEX`"
   ]
  },
  {
   "cell_type": "code",
   "execution_count": 3,
   "metadata": {},
   "outputs": [],
   "source": [
    "sql = \"\"\"\n",
    "        create index prod_name_ind\n",
    "        on Products (prod_name);\n",
    "        \"\"\""
   ]
  },
  {
   "cell_type": "code",
   "execution_count": 4,
   "metadata": {},
   "outputs": [],
   "source": [
    "cur = conn.cursor()\n",
    "cur.execute(sql)\n",
    "conn.commit()"
   ]
  },
  {
   "cell_type": "code",
   "execution_count": 5,
   "metadata": {},
   "outputs": [],
   "source": [
    "sql = \"\"\"\n",
    "        explain query plan\n",
    "        select * \n",
    "        from Products\n",
    "        \"\"\""
   ]
  },
  {
   "cell_type": "code",
   "execution_count": 6,
   "metadata": {},
   "outputs": [
    {
     "data": {
      "text/html": [
       "<div>\n",
       "<style scoped>\n",
       "    .dataframe tbody tr th:only-of-type {\n",
       "        vertical-align: middle;\n",
       "    }\n",
       "\n",
       "    .dataframe tbody tr th {\n",
       "        vertical-align: top;\n",
       "    }\n",
       "\n",
       "    .dataframe thead th {\n",
       "        text-align: right;\n",
       "    }\n",
       "</style>\n",
       "<table border=\"1\" class=\"dataframe\">\n",
       "  <thead>\n",
       "    <tr style=\"text-align: right;\">\n",
       "      <th></th>\n",
       "      <th>id</th>\n",
       "      <th>parent</th>\n",
       "      <th>notused</th>\n",
       "      <th>detail</th>\n",
       "    </tr>\n",
       "  </thead>\n",
       "  <tbody>\n",
       "    <tr>\n",
       "      <th>0</th>\n",
       "      <td>2</td>\n",
       "      <td>0</td>\n",
       "      <td>0</td>\n",
       "      <td>SCAN TABLE Products</td>\n",
       "    </tr>\n",
       "  </tbody>\n",
       "</table>\n",
       "</div>"
      ],
      "text/plain": [
       "   id  parent  notused               detail\n",
       "0   2       0        0  SCAN TABLE Products"
      ]
     },
     "execution_count": 6,
     "metadata": {},
     "output_type": "execute_result"
    }
   ],
   "source": [
    "ex17 = pd.read_sql(sql, conn)\n",
    "ex17"
   ]
  },
  {
   "cell_type": "code",
   "execution_count": 10,
   "metadata": {},
   "outputs": [],
   "source": [
    "sql = \"\"\"\n",
    "        explain query plan\n",
    "        select prod_name, prod_price, prod_desc\n",
    "        from Products\n",
    "        where prod_id = 'BR03'; \n",
    "        \"\"\""
   ]
  },
  {
   "cell_type": "code",
   "execution_count": 11,
   "metadata": {},
   "outputs": [
    {
     "data": {
      "text/html": [
       "<div>\n",
       "<style scoped>\n",
       "    .dataframe tbody tr th:only-of-type {\n",
       "        vertical-align: middle;\n",
       "    }\n",
       "\n",
       "    .dataframe tbody tr th {\n",
       "        vertical-align: top;\n",
       "    }\n",
       "\n",
       "    .dataframe thead th {\n",
       "        text-align: right;\n",
       "    }\n",
       "</style>\n",
       "<table border=\"1\" class=\"dataframe\">\n",
       "  <thead>\n",
       "    <tr style=\"text-align: right;\">\n",
       "      <th></th>\n",
       "      <th>id</th>\n",
       "      <th>parent</th>\n",
       "      <th>notused</th>\n",
       "      <th>detail</th>\n",
       "    </tr>\n",
       "  </thead>\n",
       "  <tbody>\n",
       "    <tr>\n",
       "      <th>0</th>\n",
       "      <td>3</td>\n",
       "      <td>0</td>\n",
       "      <td>0</td>\n",
       "      <td>SEARCH TABLE Products USING INDEX sqlite_autoi...</td>\n",
       "    </tr>\n",
       "  </tbody>\n",
       "</table>\n",
       "</div>"
      ],
      "text/plain": [
       "   id  parent  notused                                             detail\n",
       "0   3       0        0  SEARCH TABLE Products USING INDEX sqlite_autoi..."
      ]
     },
     "execution_count": 11,
     "metadata": {},
     "output_type": "execute_result"
    }
   ],
   "source": [
    "ex18 = pd.read_sql(sql, conn)\n",
    "ex18"
   ]
  },
  {
   "cell_type": "code",
   "execution_count": null,
   "metadata": {},
   "outputs": [],
   "source": []
  }
 ],
 "metadata": {
  "kernelspec": {
   "display_name": "Python 3",
   "language": "python",
   "name": "python3"
  },
  "language_info": {
   "codemirror_mode": {
    "name": "ipython",
    "version": 3
   },
   "file_extension": ".py",
   "mimetype": "text/x-python",
   "name": "python",
   "nbconvert_exporter": "python",
   "pygments_lexer": "ipython3",
   "version": "3.6.8"
  }
 },
 "nbformat": 4,
 "nbformat_minor": 2
}
