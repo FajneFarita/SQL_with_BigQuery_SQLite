{
 "cells": [
  {
   "cell_type": "markdown",
   "metadata": {},
   "source": [
    "### SQL in 10 Minutes\n",
    "#### Lesson VII\n",
    "`UNION`, `INSERT`, `UPDATE`, `DELETE`"
   ]
  },
  {
   "cell_type": "code",
   "execution_count": 1,
   "metadata": {},
   "outputs": [],
   "source": [
    "import sqlite3\n",
    "import pandas as pd"
   ]
  },
  {
   "cell_type": "code",
   "execution_count": 2,
   "metadata": {},
   "outputs": [],
   "source": [
    "db = 'tysql.sqlite'\n",
    "conn = sqlite3.connect(db)"
   ]
  },
  {
   "cell_type": "code",
   "execution_count": 3,
   "metadata": {},
   "outputs": [
    {
     "data": {
      "text/html": [
       "<div>\n",
       "<style scoped>\n",
       "    .dataframe tbody tr th:only-of-type {\n",
       "        vertical-align: middle;\n",
       "    }\n",
       "\n",
       "    .dataframe tbody tr th {\n",
       "        vertical-align: top;\n",
       "    }\n",
       "\n",
       "    .dataframe thead th {\n",
       "        text-align: right;\n",
       "    }\n",
       "</style>\n",
       "<table border=\"1\" class=\"dataframe\">\n",
       "  <thead>\n",
       "    <tr style=\"text-align: right;\">\n",
       "      <th></th>\n",
       "      <th>type</th>\n",
       "      <th>name</th>\n",
       "      <th>tbl_name</th>\n",
       "      <th>rootpage</th>\n",
       "      <th>sql</th>\n",
       "    </tr>\n",
       "  </thead>\n",
       "  <tbody>\n",
       "    <tr>\n",
       "      <th>0</th>\n",
       "      <td>table</td>\n",
       "      <td>Customers</td>\n",
       "      <td>Customers</td>\n",
       "      <td>2</td>\n",
       "      <td>CREATE TABLE Customers\\n(\\n  cust_id      char...</td>\n",
       "    </tr>\n",
       "    <tr>\n",
       "      <th>1</th>\n",
       "      <td>table</td>\n",
       "      <td>OrderItems</td>\n",
       "      <td>OrderItems</td>\n",
       "      <td>4</td>\n",
       "      <td>CREATE TABLE OrderItems\\n(\\n  order_num  int  ...</td>\n",
       "    </tr>\n",
       "    <tr>\n",
       "      <th>2</th>\n",
       "      <td>table</td>\n",
       "      <td>Orders</td>\n",
       "      <td>Orders</td>\n",
       "      <td>7</td>\n",
       "      <td>CREATE TABLE Orders\\n(\\n  order_num  int      ...</td>\n",
       "    </tr>\n",
       "    <tr>\n",
       "      <th>3</th>\n",
       "      <td>table</td>\n",
       "      <td>Products</td>\n",
       "      <td>Products</td>\n",
       "      <td>10</td>\n",
       "      <td>CREATE TABLE Products\\n(\\n  prod_id    char(10...</td>\n",
       "    </tr>\n",
       "    <tr>\n",
       "      <th>4</th>\n",
       "      <td>table</td>\n",
       "      <td>Vendors</td>\n",
       "      <td>Vendors</td>\n",
       "      <td>12</td>\n",
       "      <td>CREATE TABLE Vendors\\n(\\n  vend_id      char(1...</td>\n",
       "    </tr>\n",
       "  </tbody>\n",
       "</table>\n",
       "</div>"
      ],
      "text/plain": [
       "    type        name    tbl_name  rootpage  \\\n",
       "0  table   Customers   Customers         2   \n",
       "1  table  OrderItems  OrderItems         4   \n",
       "2  table      Orders      Orders         7   \n",
       "3  table    Products    Products        10   \n",
       "4  table     Vendors     Vendors        12   \n",
       "\n",
       "                                                 sql  \n",
       "0  CREATE TABLE Customers\\n(\\n  cust_id      char...  \n",
       "1  CREATE TABLE OrderItems\\n(\\n  order_num  int  ...  \n",
       "2  CREATE TABLE Orders\\n(\\n  order_num  int      ...  \n",
       "3  CREATE TABLE Products\\n(\\n  prod_id    char(10...  \n",
       "4  CREATE TABLE Vendors\\n(\\n  vend_id      char(1...  "
      ]
     },
     "execution_count": 3,
     "metadata": {},
     "output_type": "execute_result"
    }
   ],
   "source": [
    "tables = pd.read_sql(\"\"\"SELECT * FROM sqlite_master WHERE type = 'table';\"\"\", conn)\n",
    "tables"
   ]
  },
  {
   "cell_type": "code",
   "execution_count": 4,
   "metadata": {},
   "outputs": [],
   "source": [
    "sql = \"\"\"\n",
    "        select cust_name, cust_contact, cust_email\n",
    "        from Customers\n",
    "        where cust_state in ('IL', 'IN', 'MI');\n",
    "        \"\"\""
   ]
  },
  {
   "cell_type": "code",
   "execution_count": 5,
   "metadata": {},
   "outputs": [
    {
     "data": {
      "text/html": [
       "<div>\n",
       "<style scoped>\n",
       "    .dataframe tbody tr th:only-of-type {\n",
       "        vertical-align: middle;\n",
       "    }\n",
       "\n",
       "    .dataframe tbody tr th {\n",
       "        vertical-align: top;\n",
       "    }\n",
       "\n",
       "    .dataframe thead th {\n",
       "        text-align: right;\n",
       "    }\n",
       "</style>\n",
       "<table border=\"1\" class=\"dataframe\">\n",
       "  <thead>\n",
       "    <tr style=\"text-align: right;\">\n",
       "      <th></th>\n",
       "      <th>cust_name</th>\n",
       "      <th>cust_contact</th>\n",
       "      <th>cust_email</th>\n",
       "    </tr>\n",
       "  </thead>\n",
       "  <tbody>\n",
       "    <tr>\n",
       "      <th>0</th>\n",
       "      <td>Village Toys</td>\n",
       "      <td>John Smith</td>\n",
       "      <td>sales@villagetoys.com</td>\n",
       "    </tr>\n",
       "    <tr>\n",
       "      <th>1</th>\n",
       "      <td>Fun4All</td>\n",
       "      <td>Jim Jones</td>\n",
       "      <td>jjones@fun4all.com</td>\n",
       "    </tr>\n",
       "    <tr>\n",
       "      <th>2</th>\n",
       "      <td>The Toy Store</td>\n",
       "      <td>Kim Howard</td>\n",
       "      <td>None</td>\n",
       "    </tr>\n",
       "  </tbody>\n",
       "</table>\n",
       "</div>"
      ],
      "text/plain": [
       "       cust_name cust_contact             cust_email\n",
       "0   Village Toys   John Smith  sales@villagetoys.com\n",
       "1        Fun4All    Jim Jones     jjones@fun4all.com\n",
       "2  The Toy Store   Kim Howard                   None"
      ]
     },
     "execution_count": 5,
     "metadata": {},
     "output_type": "execute_result"
    }
   ],
   "source": [
    "ex1 = pd.read_sql(sql, conn)\n",
    "ex1"
   ]
  },
  {
   "cell_type": "code",
   "execution_count": 6,
   "metadata": {},
   "outputs": [],
   "source": [
    "sql = \"\"\"\n",
    "        select cust_name, cust_contact, cust_email\n",
    "        from Customers\n",
    "        where cust_name = 'Fun4All';\n",
    "        \"\"\""
   ]
  },
  {
   "cell_type": "code",
   "execution_count": 7,
   "metadata": {},
   "outputs": [
    {
     "data": {
      "text/html": [
       "<div>\n",
       "<style scoped>\n",
       "    .dataframe tbody tr th:only-of-type {\n",
       "        vertical-align: middle;\n",
       "    }\n",
       "\n",
       "    .dataframe tbody tr th {\n",
       "        vertical-align: top;\n",
       "    }\n",
       "\n",
       "    .dataframe thead th {\n",
       "        text-align: right;\n",
       "    }\n",
       "</style>\n",
       "<table border=\"1\" class=\"dataframe\">\n",
       "  <thead>\n",
       "    <tr style=\"text-align: right;\">\n",
       "      <th></th>\n",
       "      <th>cust_name</th>\n",
       "      <th>cust_contact</th>\n",
       "      <th>cust_email</th>\n",
       "    </tr>\n",
       "  </thead>\n",
       "  <tbody>\n",
       "    <tr>\n",
       "      <th>0</th>\n",
       "      <td>Fun4All</td>\n",
       "      <td>Jim Jones</td>\n",
       "      <td>jjones@fun4all.com</td>\n",
       "    </tr>\n",
       "    <tr>\n",
       "      <th>1</th>\n",
       "      <td>Fun4All</td>\n",
       "      <td>Denise L. Stephens</td>\n",
       "      <td>dstephens@fun4all.com</td>\n",
       "    </tr>\n",
       "  </tbody>\n",
       "</table>\n",
       "</div>"
      ],
      "text/plain": [
       "  cust_name        cust_contact             cust_email\n",
       "0   Fun4All           Jim Jones     jjones@fun4all.com\n",
       "1   Fun4All  Denise L. Stephens  dstephens@fun4all.com"
      ]
     },
     "execution_count": 7,
     "metadata": {},
     "output_type": "execute_result"
    }
   ],
   "source": [
    "ex2 = pd.read_sql(sql, conn)\n",
    "ex2"
   ]
  },
  {
   "cell_type": "markdown",
   "metadata": {},
   "source": [
    "Now combine the above two query."
   ]
  },
  {
   "cell_type": "code",
   "execution_count": 8,
   "metadata": {},
   "outputs": [],
   "source": [
    "sql = \"\"\"\n",
    "        select cust_name, cust_contact, cust_email\n",
    "        from Customers\n",
    "        where cust_state in ('IL', 'IN', 'MI')\n",
    "        union\n",
    "        select cust_name, cust_contact, cust_email\n",
    "        from Customers\n",
    "        where cust_name = 'Fun4All';\n",
    "        \"\"\""
   ]
  },
  {
   "cell_type": "code",
   "execution_count": 9,
   "metadata": {},
   "outputs": [
    {
     "data": {
      "text/html": [
       "<div>\n",
       "<style scoped>\n",
       "    .dataframe tbody tr th:only-of-type {\n",
       "        vertical-align: middle;\n",
       "    }\n",
       "\n",
       "    .dataframe tbody tr th {\n",
       "        vertical-align: top;\n",
       "    }\n",
       "\n",
       "    .dataframe thead th {\n",
       "        text-align: right;\n",
       "    }\n",
       "</style>\n",
       "<table border=\"1\" class=\"dataframe\">\n",
       "  <thead>\n",
       "    <tr style=\"text-align: right;\">\n",
       "      <th></th>\n",
       "      <th>cust_name</th>\n",
       "      <th>cust_contact</th>\n",
       "      <th>cust_email</th>\n",
       "    </tr>\n",
       "  </thead>\n",
       "  <tbody>\n",
       "    <tr>\n",
       "      <th>0</th>\n",
       "      <td>Fun4All</td>\n",
       "      <td>Denise L. Stephens</td>\n",
       "      <td>dstephens@fun4all.com</td>\n",
       "    </tr>\n",
       "    <tr>\n",
       "      <th>1</th>\n",
       "      <td>Fun4All</td>\n",
       "      <td>Jim Jones</td>\n",
       "      <td>jjones@fun4all.com</td>\n",
       "    </tr>\n",
       "    <tr>\n",
       "      <th>2</th>\n",
       "      <td>The Toy Store</td>\n",
       "      <td>Kim Howard</td>\n",
       "      <td>None</td>\n",
       "    </tr>\n",
       "    <tr>\n",
       "      <th>3</th>\n",
       "      <td>Village Toys</td>\n",
       "      <td>John Smith</td>\n",
       "      <td>sales@villagetoys.com</td>\n",
       "    </tr>\n",
       "  </tbody>\n",
       "</table>\n",
       "</div>"
      ],
      "text/plain": [
       "       cust_name        cust_contact             cust_email\n",
       "0        Fun4All  Denise L. Stephens  dstephens@fun4all.com\n",
       "1        Fun4All           Jim Jones     jjones@fun4all.com\n",
       "2  The Toy Store          Kim Howard                   None\n",
       "3   Village Toys          John Smith  sales@villagetoys.com"
      ]
     },
     "execution_count": 9,
     "metadata": {},
     "output_type": "execute_result"
    }
   ],
   "source": [
    "ex3 = pd.read_sql(sql, conn)\n",
    "ex3"
   ]
  },
  {
   "cell_type": "markdown",
   "metadata": {},
   "source": [
    "This equals multiple `where`"
   ]
  },
  {
   "cell_type": "code",
   "execution_count": 10,
   "metadata": {},
   "outputs": [],
   "source": [
    "sql = \"\"\"\n",
    "        select cust_name, cust_contact, cust_email\n",
    "        from Customers\n",
    "        where cust_state in ('IL', 'IN', 'MI') \n",
    "        or cust_name = 'Fun4All';\n",
    "        \"\"\""
   ]
  },
  {
   "cell_type": "code",
   "execution_count": 11,
   "metadata": {},
   "outputs": [
    {
     "data": {
      "text/html": [
       "<div>\n",
       "<style scoped>\n",
       "    .dataframe tbody tr th:only-of-type {\n",
       "        vertical-align: middle;\n",
       "    }\n",
       "\n",
       "    .dataframe tbody tr th {\n",
       "        vertical-align: top;\n",
       "    }\n",
       "\n",
       "    .dataframe thead th {\n",
       "        text-align: right;\n",
       "    }\n",
       "</style>\n",
       "<table border=\"1\" class=\"dataframe\">\n",
       "  <thead>\n",
       "    <tr style=\"text-align: right;\">\n",
       "      <th></th>\n",
       "      <th>cust_name</th>\n",
       "      <th>cust_contact</th>\n",
       "      <th>cust_email</th>\n",
       "    </tr>\n",
       "  </thead>\n",
       "  <tbody>\n",
       "    <tr>\n",
       "      <th>0</th>\n",
       "      <td>Village Toys</td>\n",
       "      <td>John Smith</td>\n",
       "      <td>sales@villagetoys.com</td>\n",
       "    </tr>\n",
       "    <tr>\n",
       "      <th>1</th>\n",
       "      <td>Fun4All</td>\n",
       "      <td>Jim Jones</td>\n",
       "      <td>jjones@fun4all.com</td>\n",
       "    </tr>\n",
       "    <tr>\n",
       "      <th>2</th>\n",
       "      <td>Fun4All</td>\n",
       "      <td>Denise L. Stephens</td>\n",
       "      <td>dstephens@fun4all.com</td>\n",
       "    </tr>\n",
       "    <tr>\n",
       "      <th>3</th>\n",
       "      <td>The Toy Store</td>\n",
       "      <td>Kim Howard</td>\n",
       "      <td>None</td>\n",
       "    </tr>\n",
       "  </tbody>\n",
       "</table>\n",
       "</div>"
      ],
      "text/plain": [
       "       cust_name        cust_contact             cust_email\n",
       "0   Village Toys          John Smith  sales@villagetoys.com\n",
       "1        Fun4All           Jim Jones     jjones@fun4all.com\n",
       "2        Fun4All  Denise L. Stephens  dstephens@fun4all.com\n",
       "3  The Toy Store          Kim Howard                   None"
      ]
     },
     "execution_count": 11,
     "metadata": {},
     "output_type": "execute_result"
    }
   ],
   "source": [
    "ex4 = pd.read_sql(sql, conn)\n",
    "ex4"
   ]
  },
  {
   "cell_type": "markdown",
   "metadata": {},
   "source": [
    "To avoid automatic cancellation, use `union all`"
   ]
  },
  {
   "cell_type": "code",
   "execution_count": 12,
   "metadata": {},
   "outputs": [],
   "source": [
    "sql = \"\"\"\n",
    "        select cust_name, cust_contact, cust_email\n",
    "        from Customers\n",
    "        where cust_state in ('IL', 'IN', 'MI')\n",
    "        union all\n",
    "        select cust_name, cust_contact, cust_email\n",
    "        from Customers\n",
    "        where cust_name = 'Fun4All';\n",
    "        \"\"\""
   ]
  },
  {
   "cell_type": "code",
   "execution_count": 13,
   "metadata": {},
   "outputs": [
    {
     "data": {
      "text/html": [
       "<div>\n",
       "<style scoped>\n",
       "    .dataframe tbody tr th:only-of-type {\n",
       "        vertical-align: middle;\n",
       "    }\n",
       "\n",
       "    .dataframe tbody tr th {\n",
       "        vertical-align: top;\n",
       "    }\n",
       "\n",
       "    .dataframe thead th {\n",
       "        text-align: right;\n",
       "    }\n",
       "</style>\n",
       "<table border=\"1\" class=\"dataframe\">\n",
       "  <thead>\n",
       "    <tr style=\"text-align: right;\">\n",
       "      <th></th>\n",
       "      <th>cust_name</th>\n",
       "      <th>cust_contact</th>\n",
       "      <th>cust_email</th>\n",
       "    </tr>\n",
       "  </thead>\n",
       "  <tbody>\n",
       "    <tr>\n",
       "      <th>0</th>\n",
       "      <td>Village Toys</td>\n",
       "      <td>John Smith</td>\n",
       "      <td>sales@villagetoys.com</td>\n",
       "    </tr>\n",
       "    <tr>\n",
       "      <th>1</th>\n",
       "      <td>Fun4All</td>\n",
       "      <td>Jim Jones</td>\n",
       "      <td>jjones@fun4all.com</td>\n",
       "    </tr>\n",
       "    <tr>\n",
       "      <th>2</th>\n",
       "      <td>The Toy Store</td>\n",
       "      <td>Kim Howard</td>\n",
       "      <td>None</td>\n",
       "    </tr>\n",
       "    <tr>\n",
       "      <th>3</th>\n",
       "      <td>Fun4All</td>\n",
       "      <td>Jim Jones</td>\n",
       "      <td>jjones@fun4all.com</td>\n",
       "    </tr>\n",
       "    <tr>\n",
       "      <th>4</th>\n",
       "      <td>Fun4All</td>\n",
       "      <td>Denise L. Stephens</td>\n",
       "      <td>dstephens@fun4all.com</td>\n",
       "    </tr>\n",
       "  </tbody>\n",
       "</table>\n",
       "</div>"
      ],
      "text/plain": [
       "       cust_name        cust_contact             cust_email\n",
       "0   Village Toys          John Smith  sales@villagetoys.com\n",
       "1        Fun4All           Jim Jones     jjones@fun4all.com\n",
       "2  The Toy Store          Kim Howard                   None\n",
       "3        Fun4All           Jim Jones     jjones@fun4all.com\n",
       "4        Fun4All  Denise L. Stephens  dstephens@fun4all.com"
      ]
     },
     "execution_count": 13,
     "metadata": {},
     "output_type": "execute_result"
    }
   ],
   "source": [
    "ex5 = pd.read_sql(sql, conn)\n",
    "ex5"
   ]
  },
  {
   "cell_type": "markdown",
   "metadata": {},
   "source": [
    "`order by`"
   ]
  },
  {
   "cell_type": "code",
   "execution_count": 14,
   "metadata": {},
   "outputs": [],
   "source": [
    "sql = \"\"\"\n",
    "        select cust_name, cust_contact, cust_email\n",
    "        from Customers\n",
    "        where cust_state in ('IL', 'IN', 'MI')\n",
    "        union \n",
    "        select cust_name, cust_contact, cust_email\n",
    "        from Customers\n",
    "        where cust_name = 'Fun4All'\n",
    "        order by cust_name, cust_contact;\n",
    "        \"\"\""
   ]
  },
  {
   "cell_type": "code",
   "execution_count": 15,
   "metadata": {},
   "outputs": [
    {
     "data": {
      "text/html": [
       "<div>\n",
       "<style scoped>\n",
       "    .dataframe tbody tr th:only-of-type {\n",
       "        vertical-align: middle;\n",
       "    }\n",
       "\n",
       "    .dataframe tbody tr th {\n",
       "        vertical-align: top;\n",
       "    }\n",
       "\n",
       "    .dataframe thead th {\n",
       "        text-align: right;\n",
       "    }\n",
       "</style>\n",
       "<table border=\"1\" class=\"dataframe\">\n",
       "  <thead>\n",
       "    <tr style=\"text-align: right;\">\n",
       "      <th></th>\n",
       "      <th>cust_name</th>\n",
       "      <th>cust_contact</th>\n",
       "      <th>cust_email</th>\n",
       "    </tr>\n",
       "  </thead>\n",
       "  <tbody>\n",
       "    <tr>\n",
       "      <th>0</th>\n",
       "      <td>Fun4All</td>\n",
       "      <td>Denise L. Stephens</td>\n",
       "      <td>dstephens@fun4all.com</td>\n",
       "    </tr>\n",
       "    <tr>\n",
       "      <th>1</th>\n",
       "      <td>Fun4All</td>\n",
       "      <td>Jim Jones</td>\n",
       "      <td>jjones@fun4all.com</td>\n",
       "    </tr>\n",
       "    <tr>\n",
       "      <th>2</th>\n",
       "      <td>The Toy Store</td>\n",
       "      <td>Kim Howard</td>\n",
       "      <td>None</td>\n",
       "    </tr>\n",
       "    <tr>\n",
       "      <th>3</th>\n",
       "      <td>Village Toys</td>\n",
       "      <td>John Smith</td>\n",
       "      <td>sales@villagetoys.com</td>\n",
       "    </tr>\n",
       "  </tbody>\n",
       "</table>\n",
       "</div>"
      ],
      "text/plain": [
       "       cust_name        cust_contact             cust_email\n",
       "0        Fun4All  Denise L. Stephens  dstephens@fun4all.com\n",
       "1        Fun4All           Jim Jones     jjones@fun4all.com\n",
       "2  The Toy Store          Kim Howard                   None\n",
       "3   Village Toys          John Smith  sales@villagetoys.com"
      ]
     },
     "execution_count": 15,
     "metadata": {},
     "output_type": "execute_result"
    }
   ],
   "source": [
    "ex6 = pd.read_sql(sql, conn)\n",
    "ex6"
   ]
  },
  {
   "cell_type": "markdown",
   "metadata": {},
   "source": [
    "`Insert` is another type of sql language apart from `Select`"
   ]
  },
  {
   "cell_type": "code",
   "execution_count": 18,
   "metadata": {},
   "outputs": [],
   "source": [
    "sql = \"\"\"\n",
    "        insert into Customers(cust_id, cust_name, cust_address, cust_city, cust_state, cust_zip, cust_country, cust_contact, cust_email)\n",
    "        values('1000000006', 'Toy Land', '123 Any Street', 'New York', 'NY', '11111', 'USA', Null, Null);\n",
    "        \"\"\""
   ]
  },
  {
   "cell_type": "markdown",
   "metadata": {},
   "source": [
    "This is an example, and if exerted there will be `unique constrained failed` error reported.\n",
    "\n",
    "But what's important is to give exactly the name of the column you want to insert new data in.\n",
    "\n",
    "Here, we use another way to present the work:"
   ]
  },
  {
   "cell_type": "code",
   "execution_count": 17,
   "metadata": {},
   "outputs": [],
   "source": [
    "bck1 = sqlite3.connect(db)"
   ]
  },
  {
   "cell_type": "code",
   "execution_count": 19,
   "metadata": {},
   "outputs": [
    {
     "data": {
      "text/plain": [
       "<sqlite3.Cursor at 0x11e0dd2d0>"
      ]
     },
     "execution_count": 19,
     "metadata": {},
     "output_type": "execute_result"
    }
   ],
   "source": [
    "cur = bck1.cursor()\n",
    "cur.execute(sql)"
   ]
  },
  {
   "cell_type": "code",
   "execution_count": 20,
   "metadata": {},
   "outputs": [],
   "source": [
    "bck1.commit()"
   ]
  },
  {
   "cell_type": "code",
   "execution_count": 21,
   "metadata": {},
   "outputs": [
    {
     "data": {
      "text/html": [
       "<div>\n",
       "<style scoped>\n",
       "    .dataframe tbody tr th:only-of-type {\n",
       "        vertical-align: middle;\n",
       "    }\n",
       "\n",
       "    .dataframe tbody tr th {\n",
       "        vertical-align: top;\n",
       "    }\n",
       "\n",
       "    .dataframe thead th {\n",
       "        text-align: right;\n",
       "    }\n",
       "</style>\n",
       "<table border=\"1\" class=\"dataframe\">\n",
       "  <thead>\n",
       "    <tr style=\"text-align: right;\">\n",
       "      <th></th>\n",
       "      <th>cust_id</th>\n",
       "      <th>cust_name</th>\n",
       "      <th>cust_address</th>\n",
       "      <th>cust_city</th>\n",
       "      <th>cust_state</th>\n",
       "      <th>cust_zip</th>\n",
       "      <th>cust_country</th>\n",
       "      <th>cust_contact</th>\n",
       "      <th>cust_email</th>\n",
       "    </tr>\n",
       "  </thead>\n",
       "  <tbody>\n",
       "    <tr>\n",
       "      <th>0</th>\n",
       "      <td>1000000006</td>\n",
       "      <td>Toy Land</td>\n",
       "      <td>123 Any Street</td>\n",
       "      <td>New York</td>\n",
       "      <td>NY</td>\n",
       "      <td>11111</td>\n",
       "      <td>USA</td>\n",
       "      <td>None</td>\n",
       "      <td>None</td>\n",
       "    </tr>\n",
       "  </tbody>\n",
       "</table>\n",
       "</div>"
      ],
      "text/plain": [
       "      cust_id cust_name    cust_address cust_city cust_state cust_zip  \\\n",
       "0  1000000006  Toy Land  123 Any Street  New York         NY    11111   \n",
       "\n",
       "  cust_country cust_contact cust_email  \n",
       "0          USA         None       None  "
      ]
     },
     "execution_count": 21,
     "metadata": {},
     "output_type": "execute_result"
    }
   ],
   "source": [
    "ex7 = pd.read_sql(\"select * from Customers where cust_id = 1000000006;\", bck1)\n",
    "ex7"
   ]
  },
  {
   "cell_type": "markdown",
   "metadata": {},
   "source": [
    "`insert select`"
   ]
  },
  {
   "cell_type": "code",
   "execution_count": 22,
   "metadata": {},
   "outputs": [],
   "source": [
    "sql = \"\"\"\n",
    "        insert into Customers(cust_id, cust_name, cust_address, cust_city, cust_state, cust_zip, cust_country, cust_contact, cust_email)\n",
    "        select cust_id, cust_name, cust_address, cust_city, cust_state, cust_zip, cust_country, cust_contact, cust_email\n",
    "        from Custnew;\n",
    "        \"\"\""
   ]
  },
  {
   "cell_type": "markdown",
   "metadata": {},
   "source": [
    "`select into`"
   ]
  },
  {
   "cell_type": "code",
   "execution_count": 23,
   "metadata": {},
   "outputs": [],
   "source": [
    "sql = \"\"\"\n",
    "        create table new_copy as\n",
    "        select *\n",
    "        from Customers;\n",
    "        \"\"\""
   ]
  },
  {
   "cell_type": "code",
   "execution_count": 24,
   "metadata": {},
   "outputs": [],
   "source": [
    "bck2 = sqlite3.connect(db)\n",
    "cur = bck2.cursor()\n",
    "cur.execute(sql)\n",
    "bck2.commit()"
   ]
  },
  {
   "cell_type": "code",
   "execution_count": 25,
   "metadata": {},
   "outputs": [
    {
     "data": {
      "text/html": [
       "<div>\n",
       "<style scoped>\n",
       "    .dataframe tbody tr th:only-of-type {\n",
       "        vertical-align: middle;\n",
       "    }\n",
       "\n",
       "    .dataframe tbody tr th {\n",
       "        vertical-align: top;\n",
       "    }\n",
       "\n",
       "    .dataframe thead th {\n",
       "        text-align: right;\n",
       "    }\n",
       "</style>\n",
       "<table border=\"1\" class=\"dataframe\">\n",
       "  <thead>\n",
       "    <tr style=\"text-align: right;\">\n",
       "      <th></th>\n",
       "      <th>cust_id</th>\n",
       "      <th>cust_name</th>\n",
       "      <th>cust_address</th>\n",
       "      <th>cust_city</th>\n",
       "      <th>cust_state</th>\n",
       "      <th>cust_zip</th>\n",
       "      <th>cust_country</th>\n",
       "      <th>cust_contact</th>\n",
       "      <th>cust_email</th>\n",
       "    </tr>\n",
       "  </thead>\n",
       "  <tbody>\n",
       "    <tr>\n",
       "      <th>0</th>\n",
       "      <td>1000000001</td>\n",
       "      <td>Village Toys</td>\n",
       "      <td>200 Maple Lane</td>\n",
       "      <td>Detroit</td>\n",
       "      <td>MI</td>\n",
       "      <td>44444</td>\n",
       "      <td>USA</td>\n",
       "      <td>John Smith</td>\n",
       "      <td>sales@villagetoys.com</td>\n",
       "    </tr>\n",
       "    <tr>\n",
       "      <th>1</th>\n",
       "      <td>1000000002</td>\n",
       "      <td>Kids Place</td>\n",
       "      <td>333 South Lake Drive</td>\n",
       "      <td>Columbus</td>\n",
       "      <td>OH</td>\n",
       "      <td>43333</td>\n",
       "      <td>USA</td>\n",
       "      <td>Michelle Green</td>\n",
       "      <td>None</td>\n",
       "    </tr>\n",
       "    <tr>\n",
       "      <th>2</th>\n",
       "      <td>1000000003</td>\n",
       "      <td>Fun4All</td>\n",
       "      <td>1 Sunny Place</td>\n",
       "      <td>Muncie</td>\n",
       "      <td>IN</td>\n",
       "      <td>42222</td>\n",
       "      <td>USA</td>\n",
       "      <td>Jim Jones</td>\n",
       "      <td>jjones@fun4all.com</td>\n",
       "    </tr>\n",
       "    <tr>\n",
       "      <th>3</th>\n",
       "      <td>1000000004</td>\n",
       "      <td>Fun4All</td>\n",
       "      <td>829 Riverside Drive</td>\n",
       "      <td>Phoenix</td>\n",
       "      <td>AZ</td>\n",
       "      <td>88888</td>\n",
       "      <td>USA</td>\n",
       "      <td>Denise L. Stephens</td>\n",
       "      <td>dstephens@fun4all.com</td>\n",
       "    </tr>\n",
       "    <tr>\n",
       "      <th>4</th>\n",
       "      <td>1000000005</td>\n",
       "      <td>The Toy Store</td>\n",
       "      <td>4545 53rd Street</td>\n",
       "      <td>Chicago</td>\n",
       "      <td>IL</td>\n",
       "      <td>54545</td>\n",
       "      <td>USA</td>\n",
       "      <td>Kim Howard</td>\n",
       "      <td>None</td>\n",
       "    </tr>\n",
       "    <tr>\n",
       "      <th>5</th>\n",
       "      <td>1000000006</td>\n",
       "      <td>Toy Land</td>\n",
       "      <td>123 Any Street</td>\n",
       "      <td>New York</td>\n",
       "      <td>NY</td>\n",
       "      <td>11111</td>\n",
       "      <td>USA</td>\n",
       "      <td>None</td>\n",
       "      <td>None</td>\n",
       "    </tr>\n",
       "  </tbody>\n",
       "</table>\n",
       "</div>"
      ],
      "text/plain": [
       "      cust_id      cust_name          cust_address cust_city cust_state  \\\n",
       "0  1000000001   Village Toys        200 Maple Lane   Detroit         MI   \n",
       "1  1000000002     Kids Place  333 South Lake Drive  Columbus         OH   \n",
       "2  1000000003        Fun4All         1 Sunny Place    Muncie         IN   \n",
       "3  1000000004        Fun4All   829 Riverside Drive   Phoenix         AZ   \n",
       "4  1000000005  The Toy Store      4545 53rd Street   Chicago         IL   \n",
       "5  1000000006       Toy Land        123 Any Street  New York         NY   \n",
       "\n",
       "  cust_zip cust_country        cust_contact             cust_email  \n",
       "0    44444          USA          John Smith  sales@villagetoys.com  \n",
       "1    43333          USA      Michelle Green                   None  \n",
       "2    42222          USA           Jim Jones     jjones@fun4all.com  \n",
       "3    88888          USA  Denise L. Stephens  dstephens@fun4all.com  \n",
       "4    54545          USA          Kim Howard                   None  \n",
       "5    11111          USA                None                   None  "
      ]
     },
     "execution_count": 25,
     "metadata": {},
     "output_type": "execute_result"
    }
   ],
   "source": [
    "ex8 = pd.read_sql(\"select * from new_copy;\", bck2)\n",
    "ex8"
   ]
  },
  {
   "cell_type": "markdown",
   "metadata": {},
   "source": [
    "See that we create a brandnew table above."
   ]
  },
  {
   "cell_type": "code",
   "execution_count": 26,
   "metadata": {},
   "outputs": [
    {
     "data": {
      "text/html": [
       "<div>\n",
       "<style scoped>\n",
       "    .dataframe tbody tr th:only-of-type {\n",
       "        vertical-align: middle;\n",
       "    }\n",
       "\n",
       "    .dataframe tbody tr th {\n",
       "        vertical-align: top;\n",
       "    }\n",
       "\n",
       "    .dataframe thead th {\n",
       "        text-align: right;\n",
       "    }\n",
       "</style>\n",
       "<table border=\"1\" class=\"dataframe\">\n",
       "  <thead>\n",
       "    <tr style=\"text-align: right;\">\n",
       "      <th></th>\n",
       "      <th>type</th>\n",
       "      <th>name</th>\n",
       "      <th>tbl_name</th>\n",
       "      <th>rootpage</th>\n",
       "      <th>sql</th>\n",
       "    </tr>\n",
       "  </thead>\n",
       "  <tbody>\n",
       "    <tr>\n",
       "      <th>0</th>\n",
       "      <td>table</td>\n",
       "      <td>Customers</td>\n",
       "      <td>Customers</td>\n",
       "      <td>2</td>\n",
       "      <td>CREATE TABLE Customers\\n(\\n  cust_id      char...</td>\n",
       "    </tr>\n",
       "    <tr>\n",
       "      <th>1</th>\n",
       "      <td>table</td>\n",
       "      <td>OrderItems</td>\n",
       "      <td>OrderItems</td>\n",
       "      <td>4</td>\n",
       "      <td>CREATE TABLE OrderItems\\n(\\n  order_num  int  ...</td>\n",
       "    </tr>\n",
       "    <tr>\n",
       "      <th>2</th>\n",
       "      <td>table</td>\n",
       "      <td>Orders</td>\n",
       "      <td>Orders</td>\n",
       "      <td>7</td>\n",
       "      <td>CREATE TABLE Orders\\n(\\n  order_num  int      ...</td>\n",
       "    </tr>\n",
       "    <tr>\n",
       "      <th>3</th>\n",
       "      <td>table</td>\n",
       "      <td>Products</td>\n",
       "      <td>Products</td>\n",
       "      <td>10</td>\n",
       "      <td>CREATE TABLE Products\\n(\\n  prod_id    char(10...</td>\n",
       "    </tr>\n",
       "    <tr>\n",
       "      <th>4</th>\n",
       "      <td>table</td>\n",
       "      <td>Vendors</td>\n",
       "      <td>Vendors</td>\n",
       "      <td>12</td>\n",
       "      <td>CREATE TABLE Vendors\\n(\\n  vend_id      char(1...</td>\n",
       "    </tr>\n",
       "    <tr>\n",
       "      <th>5</th>\n",
       "      <td>table</td>\n",
       "      <td>new_copy</td>\n",
       "      <td>new_copy</td>\n",
       "      <td>15</td>\n",
       "      <td>CREATE TABLE new_copy(\\n  cust_id TEXT,\\n  cus...</td>\n",
       "    </tr>\n",
       "  </tbody>\n",
       "</table>\n",
       "</div>"
      ],
      "text/plain": [
       "    type        name    tbl_name  rootpage  \\\n",
       "0  table   Customers   Customers         2   \n",
       "1  table  OrderItems  OrderItems         4   \n",
       "2  table      Orders      Orders         7   \n",
       "3  table    Products    Products        10   \n",
       "4  table     Vendors     Vendors        12   \n",
       "5  table    new_copy    new_copy        15   \n",
       "\n",
       "                                                 sql  \n",
       "0  CREATE TABLE Customers\\n(\\n  cust_id      char...  \n",
       "1  CREATE TABLE OrderItems\\n(\\n  order_num  int  ...  \n",
       "2  CREATE TABLE Orders\\n(\\n  order_num  int      ...  \n",
       "3  CREATE TABLE Products\\n(\\n  prod_id    char(10...  \n",
       "4  CREATE TABLE Vendors\\n(\\n  vend_id      char(1...  \n",
       "5  CREATE TABLE new_copy(\\n  cust_id TEXT,\\n  cus...  "
      ]
     },
     "execution_count": 26,
     "metadata": {},
     "output_type": "execute_result"
    }
   ],
   "source": [
    "tables = pd.read_sql(\"\"\"SELECT * FROM sqlite_master WHERE type = 'table';\"\"\", bck2)\n",
    "tables"
   ]
  },
  {
   "cell_type": "markdown",
   "metadata": {},
   "source": [
    "`UPDATE`\n",
    "\n",
    "First we see the missing information from the wanted row."
   ]
  },
  {
   "cell_type": "code",
   "execution_count": 31,
   "metadata": {},
   "outputs": [],
   "source": [
    "sql = \"\"\"\n",
    "        select * \n",
    "        from Customers\n",
    "        where cust_id = '1000000005';\n",
    "        \"\"\""
   ]
  },
  {
   "cell_type": "code",
   "execution_count": 32,
   "metadata": {},
   "outputs": [
    {
     "data": {
      "text/html": [
       "<div>\n",
       "<style scoped>\n",
       "    .dataframe tbody tr th:only-of-type {\n",
       "        vertical-align: middle;\n",
       "    }\n",
       "\n",
       "    .dataframe tbody tr th {\n",
       "        vertical-align: top;\n",
       "    }\n",
       "\n",
       "    .dataframe thead th {\n",
       "        text-align: right;\n",
       "    }\n",
       "</style>\n",
       "<table border=\"1\" class=\"dataframe\">\n",
       "  <thead>\n",
       "    <tr style=\"text-align: right;\">\n",
       "      <th></th>\n",
       "      <th>cust_id</th>\n",
       "      <th>cust_name</th>\n",
       "      <th>cust_address</th>\n",
       "      <th>cust_city</th>\n",
       "      <th>cust_state</th>\n",
       "      <th>cust_zip</th>\n",
       "      <th>cust_country</th>\n",
       "      <th>cust_contact</th>\n",
       "      <th>cust_email</th>\n",
       "    </tr>\n",
       "  </thead>\n",
       "  <tbody>\n",
       "    <tr>\n",
       "      <th>0</th>\n",
       "      <td>1000000005</td>\n",
       "      <td>The Toy Store</td>\n",
       "      <td>4545 53rd Street</td>\n",
       "      <td>Chicago</td>\n",
       "      <td>IL</td>\n",
       "      <td>54545</td>\n",
       "      <td>USA</td>\n",
       "      <td>Kim Howard</td>\n",
       "      <td>None</td>\n",
       "    </tr>\n",
       "  </tbody>\n",
       "</table>\n",
       "</div>"
      ],
      "text/plain": [
       "      cust_id      cust_name      cust_address cust_city cust_state cust_zip  \\\n",
       "0  1000000005  The Toy Store  4545 53rd Street   Chicago         IL    54545   \n",
       "\n",
       "  cust_country cust_contact cust_email  \n",
       "0          USA   Kim Howard       None  "
      ]
     },
     "execution_count": 32,
     "metadata": {},
     "output_type": "execute_result"
    }
   ],
   "source": [
    "ex9 = pd.read_sql(sql, conn)\n",
    "ex9"
   ]
  },
  {
   "cell_type": "code",
   "execution_count": 33,
   "metadata": {},
   "outputs": [],
   "source": [
    "sql = \"\"\"\n",
    "        update Customers\n",
    "        set cust_email = 'kim@thetoystore.com'\n",
    "        where cust_id = '1000000005';\n",
    "        \"\"\""
   ]
  },
  {
   "cell_type": "code",
   "execution_count": 34,
   "metadata": {},
   "outputs": [],
   "source": [
    "bck3 = sqlite3.connect(db)\n",
    "cur = bck3.cursor()\n",
    "cur.execute(sql)\n",
    "bck3.commit()"
   ]
  },
  {
   "cell_type": "markdown",
   "metadata": {},
   "source": [
    "Check if it works:"
   ]
  },
  {
   "cell_type": "code",
   "execution_count": 35,
   "metadata": {},
   "outputs": [
    {
     "data": {
      "text/html": [
       "<div>\n",
       "<style scoped>\n",
       "    .dataframe tbody tr th:only-of-type {\n",
       "        vertical-align: middle;\n",
       "    }\n",
       "\n",
       "    .dataframe tbody tr th {\n",
       "        vertical-align: top;\n",
       "    }\n",
       "\n",
       "    .dataframe thead th {\n",
       "        text-align: right;\n",
       "    }\n",
       "</style>\n",
       "<table border=\"1\" class=\"dataframe\">\n",
       "  <thead>\n",
       "    <tr style=\"text-align: right;\">\n",
       "      <th></th>\n",
       "      <th>cust_id</th>\n",
       "      <th>cust_name</th>\n",
       "      <th>cust_address</th>\n",
       "      <th>cust_city</th>\n",
       "      <th>cust_state</th>\n",
       "      <th>cust_zip</th>\n",
       "      <th>cust_country</th>\n",
       "      <th>cust_contact</th>\n",
       "      <th>cust_email</th>\n",
       "    </tr>\n",
       "  </thead>\n",
       "  <tbody>\n",
       "    <tr>\n",
       "      <th>0</th>\n",
       "      <td>1000000005</td>\n",
       "      <td>The Toy Store</td>\n",
       "      <td>4545 53rd Street</td>\n",
       "      <td>Chicago</td>\n",
       "      <td>IL</td>\n",
       "      <td>54545</td>\n",
       "      <td>USA</td>\n",
       "      <td>Kim Howard</td>\n",
       "      <td>kim@thetoystore.com</td>\n",
       "    </tr>\n",
       "  </tbody>\n",
       "</table>\n",
       "</div>"
      ],
      "text/plain": [
       "      cust_id      cust_name      cust_address cust_city cust_state cust_zip  \\\n",
       "0  1000000005  The Toy Store  4545 53rd Street   Chicago         IL    54545   \n",
       "\n",
       "  cust_country cust_contact           cust_email  \n",
       "0          USA   Kim Howard  kim@thetoystore.com  "
      ]
     },
     "execution_count": 35,
     "metadata": {},
     "output_type": "execute_result"
    }
   ],
   "source": [
    "ex10 = pd.read_sql(\"select * from Customers where cust_id = 1000000005;\", bc3)\n",
    "ex10"
   ]
  },
  {
   "cell_type": "markdown",
   "metadata": {},
   "source": [
    "`UPDATE` multiple rows"
   ]
  },
  {
   "cell_type": "code",
   "execution_count": 36,
   "metadata": {},
   "outputs": [],
   "source": [
    "sql = \"\"\"\n",
    "        update Customers\n",
    "        set cust_contact = 'Sam Roberts',\n",
    "             cust_email = 'sam@toyland.com'\n",
    "        where cust_id = '1000000006';\n",
    "        \"\"\""
   ]
  },
  {
   "cell_type": "code",
   "execution_count": 37,
   "metadata": {},
   "outputs": [],
   "source": [
    "bck4 = sqlite3.connect(db)\n",
    "cur = bck4.cursor()\n",
    "cur.execute(sql)\n",
    "bck4.commit()"
   ]
  },
  {
   "cell_type": "code",
   "execution_count": 38,
   "metadata": {},
   "outputs": [
    {
     "data": {
      "text/html": [
       "<div>\n",
       "<style scoped>\n",
       "    .dataframe tbody tr th:only-of-type {\n",
       "        vertical-align: middle;\n",
       "    }\n",
       "\n",
       "    .dataframe tbody tr th {\n",
       "        vertical-align: top;\n",
       "    }\n",
       "\n",
       "    .dataframe thead th {\n",
       "        text-align: right;\n",
       "    }\n",
       "</style>\n",
       "<table border=\"1\" class=\"dataframe\">\n",
       "  <thead>\n",
       "    <tr style=\"text-align: right;\">\n",
       "      <th></th>\n",
       "      <th>cust_id</th>\n",
       "      <th>cust_name</th>\n",
       "      <th>cust_address</th>\n",
       "      <th>cust_city</th>\n",
       "      <th>cust_state</th>\n",
       "      <th>cust_zip</th>\n",
       "      <th>cust_country</th>\n",
       "      <th>cust_contact</th>\n",
       "      <th>cust_email</th>\n",
       "    </tr>\n",
       "  </thead>\n",
       "  <tbody>\n",
       "    <tr>\n",
       "      <th>0</th>\n",
       "      <td>1000000006</td>\n",
       "      <td>Toy Land</td>\n",
       "      <td>123 Any Street</td>\n",
       "      <td>New York</td>\n",
       "      <td>NY</td>\n",
       "      <td>11111</td>\n",
       "      <td>USA</td>\n",
       "      <td>Sam Roberts</td>\n",
       "      <td>sam@toyland.com</td>\n",
       "    </tr>\n",
       "  </tbody>\n",
       "</table>\n",
       "</div>"
      ],
      "text/plain": [
       "      cust_id cust_name    cust_address cust_city cust_state cust_zip  \\\n",
       "0  1000000006  Toy Land  123 Any Street  New York         NY    11111   \n",
       "\n",
       "  cust_country cust_contact       cust_email  \n",
       "0          USA  Sam Roberts  sam@toyland.com  "
      ]
     },
     "execution_count": 38,
     "metadata": {},
     "output_type": "execute_result"
    }
   ],
   "source": [
    "ex11 = pd.read_sql(\"select * from Customers where cust_id = 1000000006;\", bck4)\n",
    "ex11"
   ]
  },
  {
   "cell_type": "code",
   "execution_count": 39,
   "metadata": {},
   "outputs": [],
   "source": [
    "sql = \"\"\"\n",
    "        update Customers\n",
    "        set cust_email = Null\n",
    "        where cust_id = '1000000005';\n",
    "        \"\"\""
   ]
  },
  {
   "cell_type": "code",
   "execution_count": 40,
   "metadata": {},
   "outputs": [],
   "source": [
    "bck5 = sqlite3.connect(db)\n",
    "cur = bck5.cursor()\n",
    "cur.execute(sql)\n",
    "bck5.commit()"
   ]
  },
  {
   "cell_type": "code",
   "execution_count": 41,
   "metadata": {},
   "outputs": [
    {
     "data": {
      "text/html": [
       "<div>\n",
       "<style scoped>\n",
       "    .dataframe tbody tr th:only-of-type {\n",
       "        vertical-align: middle;\n",
       "    }\n",
       "\n",
       "    .dataframe tbody tr th {\n",
       "        vertical-align: top;\n",
       "    }\n",
       "\n",
       "    .dataframe thead th {\n",
       "        text-align: right;\n",
       "    }\n",
       "</style>\n",
       "<table border=\"1\" class=\"dataframe\">\n",
       "  <thead>\n",
       "    <tr style=\"text-align: right;\">\n",
       "      <th></th>\n",
       "      <th>cust_id</th>\n",
       "      <th>cust_name</th>\n",
       "      <th>cust_address</th>\n",
       "      <th>cust_city</th>\n",
       "      <th>cust_state</th>\n",
       "      <th>cust_zip</th>\n",
       "      <th>cust_country</th>\n",
       "      <th>cust_contact</th>\n",
       "      <th>cust_email</th>\n",
       "    </tr>\n",
       "  </thead>\n",
       "  <tbody>\n",
       "    <tr>\n",
       "      <th>0</th>\n",
       "      <td>1000000005</td>\n",
       "      <td>The Toy Store</td>\n",
       "      <td>4545 53rd Street</td>\n",
       "      <td>Chicago</td>\n",
       "      <td>IL</td>\n",
       "      <td>54545</td>\n",
       "      <td>USA</td>\n",
       "      <td>Kim Howard</td>\n",
       "      <td>None</td>\n",
       "    </tr>\n",
       "  </tbody>\n",
       "</table>\n",
       "</div>"
      ],
      "text/plain": [
       "      cust_id      cust_name      cust_address cust_city cust_state cust_zip  \\\n",
       "0  1000000005  The Toy Store  4545 53rd Street   Chicago         IL    54545   \n",
       "\n",
       "  cust_country cust_contact cust_email  \n",
       "0          USA   Kim Howard       None  "
      ]
     },
     "execution_count": 41,
     "metadata": {},
     "output_type": "execute_result"
    }
   ],
   "source": [
    "ex11 = pd.read_sql(\"select * from Customers where cust_id = 1000000005;\", bck5)\n",
    "ex11"
   ]
  },
  {
   "cell_type": "markdown",
   "metadata": {},
   "source": [
    "`DELETE`"
   ]
  },
  {
   "cell_type": "code",
   "execution_count": 42,
   "metadata": {},
   "outputs": [],
   "source": [
    "sql = \"\"\"\n",
    "        delete \n",
    "        from Customers\n",
    "        where cust_id = '1000000006';\n",
    "        \"\"\""
   ]
  },
  {
   "cell_type": "code",
   "execution_count": 44,
   "metadata": {},
   "outputs": [],
   "source": [
    "cur = conn.cursor()\n",
    "cur.execute(sql)\n",
    "conn.commit()"
   ]
  },
  {
   "cell_type": "code",
   "execution_count": 45,
   "metadata": {},
   "outputs": [
    {
     "data": {
      "text/html": [
       "<div>\n",
       "<style scoped>\n",
       "    .dataframe tbody tr th:only-of-type {\n",
       "        vertical-align: middle;\n",
       "    }\n",
       "\n",
       "    .dataframe tbody tr th {\n",
       "        vertical-align: top;\n",
       "    }\n",
       "\n",
       "    .dataframe thead th {\n",
       "        text-align: right;\n",
       "    }\n",
       "</style>\n",
       "<table border=\"1\" class=\"dataframe\">\n",
       "  <thead>\n",
       "    <tr style=\"text-align: right;\">\n",
       "      <th></th>\n",
       "      <th>cust_id</th>\n",
       "      <th>cust_name</th>\n",
       "      <th>cust_address</th>\n",
       "      <th>cust_city</th>\n",
       "      <th>cust_state</th>\n",
       "      <th>cust_zip</th>\n",
       "      <th>cust_country</th>\n",
       "      <th>cust_contact</th>\n",
       "      <th>cust_email</th>\n",
       "    </tr>\n",
       "  </thead>\n",
       "  <tbody>\n",
       "    <tr>\n",
       "      <th>0</th>\n",
       "      <td>1000000001</td>\n",
       "      <td>Village Toys</td>\n",
       "      <td>200 Maple Lane</td>\n",
       "      <td>Detroit</td>\n",
       "      <td>MI</td>\n",
       "      <td>44444</td>\n",
       "      <td>USA</td>\n",
       "      <td>John Smith</td>\n",
       "      <td>sales@villagetoys.com</td>\n",
       "    </tr>\n",
       "    <tr>\n",
       "      <th>1</th>\n",
       "      <td>1000000002</td>\n",
       "      <td>Kids Place</td>\n",
       "      <td>333 South Lake Drive</td>\n",
       "      <td>Columbus</td>\n",
       "      <td>OH</td>\n",
       "      <td>43333</td>\n",
       "      <td>USA</td>\n",
       "      <td>Michelle Green</td>\n",
       "      <td>None</td>\n",
       "    </tr>\n",
       "    <tr>\n",
       "      <th>2</th>\n",
       "      <td>1000000003</td>\n",
       "      <td>Fun4All</td>\n",
       "      <td>1 Sunny Place</td>\n",
       "      <td>Muncie</td>\n",
       "      <td>IN</td>\n",
       "      <td>42222</td>\n",
       "      <td>USA</td>\n",
       "      <td>Jim Jones</td>\n",
       "      <td>jjones@fun4all.com</td>\n",
       "    </tr>\n",
       "    <tr>\n",
       "      <th>3</th>\n",
       "      <td>1000000004</td>\n",
       "      <td>Fun4All</td>\n",
       "      <td>829 Riverside Drive</td>\n",
       "      <td>Phoenix</td>\n",
       "      <td>AZ</td>\n",
       "      <td>88888</td>\n",
       "      <td>USA</td>\n",
       "      <td>Denise L. Stephens</td>\n",
       "      <td>dstephens@fun4all.com</td>\n",
       "    </tr>\n",
       "    <tr>\n",
       "      <th>4</th>\n",
       "      <td>1000000005</td>\n",
       "      <td>The Toy Store</td>\n",
       "      <td>4545 53rd Street</td>\n",
       "      <td>Chicago</td>\n",
       "      <td>IL</td>\n",
       "      <td>54545</td>\n",
       "      <td>USA</td>\n",
       "      <td>Kim Howard</td>\n",
       "      <td>None</td>\n",
       "    </tr>\n",
       "  </tbody>\n",
       "</table>\n",
       "</div>"
      ],
      "text/plain": [
       "      cust_id      cust_name          cust_address cust_city cust_state  \\\n",
       "0  1000000001   Village Toys        200 Maple Lane   Detroit         MI   \n",
       "1  1000000002     Kids Place  333 South Lake Drive  Columbus         OH   \n",
       "2  1000000003        Fun4All         1 Sunny Place    Muncie         IN   \n",
       "3  1000000004        Fun4All   829 Riverside Drive   Phoenix         AZ   \n",
       "4  1000000005  The Toy Store      4545 53rd Street   Chicago         IL   \n",
       "\n",
       "  cust_zip cust_country        cust_contact             cust_email  \n",
       "0    44444          USA          John Smith  sales@villagetoys.com  \n",
       "1    43333          USA      Michelle Green                   None  \n",
       "2    42222          USA           Jim Jones     jjones@fun4all.com  \n",
       "3    88888          USA  Denise L. Stephens  dstephens@fun4all.com  \n",
       "4    54545          USA          Kim Howard                   None  "
      ]
     },
     "execution_count": 45,
     "metadata": {},
     "output_type": "execute_result"
    }
   ],
   "source": [
    "ex12 = pd.read_sql(\"select * from Customers\", conn)\n",
    "ex12"
   ]
  },
  {
   "cell_type": "code",
   "execution_count": null,
   "metadata": {},
   "outputs": [],
   "source": []
  }
 ],
 "metadata": {
  "kernelspec": {
   "display_name": "Python 3",
   "language": "python",
   "name": "python3"
  },
  "language_info": {
   "codemirror_mode": {
    "name": "ipython",
    "version": 3
   },
   "file_extension": ".py",
   "mimetype": "text/x-python",
   "name": "python",
   "nbconvert_exporter": "python",
   "pygments_lexer": "ipython3",
   "version": "3.6.8"
  }
 },
 "nbformat": 4,
 "nbformat_minor": 2
}
