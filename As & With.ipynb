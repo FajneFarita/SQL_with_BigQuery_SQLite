{
 "cells": [
  {
   "cell_type": "markdown",
   "metadata": {},
   "source": [
    "### As & With\n",
    "\n",
    "Using As & With to tide up the query and make it easily read.\n",
    "\n",
    "As: To rename a column, similar to the way we import libs\n",
    "\n",
    "With: In what is called 'common table expression'"
   ]
  },
  {
   "cell_type": "code",
   "execution_count": 11,
   "metadata": {},
   "outputs": [],
   "source": [
    "%matplotlib inline\n",
    "import matplotlib.pyplot as plt"
   ]
  },
  {
   "cell_type": "code",
   "execution_count": 1,
   "metadata": {},
   "outputs": [],
   "source": [
    "from google.cloud import bigquery\n",
    "import numpy as np\n",
    "import pandas as pd\n",
    "import os"
   ]
  },
  {
   "cell_type": "code",
   "execution_count": 2,
   "metadata": {},
   "outputs": [],
   "source": [
    "os.environ[\"GOOGLE_APPLICATION_CREDENTIALS\"] = \"/Users/xlyue/Documents/kaggle learning/Intro to SQL/sql-bq-244804-803e47cbe74e.json\""
   ]
  },
  {
   "cell_type": "code",
   "execution_count": 3,
   "metadata": {},
   "outputs": [],
   "source": [
    "client = bigquery.Client()\n",
    "dataset_ref = client.dataset('crypto_bitcoin', project = 'bigquery-public-data')\n",
    "# API request - fetch the dataset\n",
    "dataset = client.get_dataset(dataset_ref)"
   ]
  },
  {
   "cell_type": "code",
   "execution_count": 4,
   "metadata": {},
   "outputs": [
    {
     "name": "stdout",
     "output_type": "stream",
     "text": [
      "blocks\n",
      "inputs\n",
      "outputs\n",
      "transactions\n",
      "\n",
      "4\n"
     ]
    }
   ],
   "source": [
    "tables = list(client.list_tables(dataset))\n",
    "for table in tables:\n",
    "    print(table.table_id)\n",
    "print()\n",
    "print(len(tables))"
   ]
  },
  {
   "cell_type": "markdown",
   "metadata": {},
   "source": [
    "#### How many Bitcoin transactions are made per month?"
   ]
  },
  {
   "cell_type": "code",
   "execution_count": 5,
   "metadata": {},
   "outputs": [
    {
     "data": {
      "text/html": [
       "<div>\n",
       "<style scoped>\n",
       "    .dataframe tbody tr th:only-of-type {\n",
       "        vertical-align: middle;\n",
       "    }\n",
       "\n",
       "    .dataframe tbody tr th {\n",
       "        vertical-align: top;\n",
       "    }\n",
       "\n",
       "    .dataframe thead th {\n",
       "        text-align: right;\n",
       "    }\n",
       "</style>\n",
       "<table border=\"1\" class=\"dataframe\">\n",
       "  <thead>\n",
       "    <tr style=\"text-align: right;\">\n",
       "      <th></th>\n",
       "      <th>hash</th>\n",
       "      <th>size</th>\n",
       "      <th>virtual_size</th>\n",
       "      <th>version</th>\n",
       "      <th>lock_time</th>\n",
       "      <th>block_hash</th>\n",
       "      <th>block_number</th>\n",
       "      <th>block_timestamp</th>\n",
       "      <th>block_timestamp_month</th>\n",
       "      <th>input_count</th>\n",
       "      <th>output_count</th>\n",
       "      <th>input_value</th>\n",
       "      <th>output_value</th>\n",
       "      <th>is_coinbase</th>\n",
       "      <th>fee</th>\n",
       "      <th>inputs</th>\n",
       "      <th>outputs</th>\n",
       "    </tr>\n",
       "  </thead>\n",
       "  <tbody>\n",
       "    <tr>\n",
       "      <th>0</th>\n",
       "      <td>aaac8b454e079237b8509c422b8a0ebd95e3eca5944b95...</td>\n",
       "      <td>137</td>\n",
       "      <td>137</td>\n",
       "      <td>1</td>\n",
       "      <td>0</td>\n",
       "      <td>000000000000000000d6cdda66edb65e8969566ca65fe3...</td>\n",
       "      <td>484015</td>\n",
       "      <td>2017-09-07 13:43:30+00:00</td>\n",
       "      <td>2017-09-01</td>\n",
       "      <td>0</td>\n",
       "      <td>1</td>\n",
       "      <td>None</td>\n",
       "      <td>1266641901</td>\n",
       "      <td>True</td>\n",
       "      <td>0</td>\n",
       "      <td>[]</td>\n",
       "      <td>[{'index': 0, 'script_asm': 'OP_DUP OP_HASH160...</td>\n",
       "    </tr>\n",
       "    <tr>\n",
       "      <th>1</th>\n",
       "      <td>8505c4277a8da0450cb6fd345b409a87218e09987c7e92...</td>\n",
       "      <td>193</td>\n",
       "      <td>166</td>\n",
       "      <td>1</td>\n",
       "      <td>0</td>\n",
       "      <td>000000000000000000427219aa8b931acb167f582e9b9c...</td>\n",
       "      <td>485083</td>\n",
       "      <td>2017-09-13 19:30:26+00:00</td>\n",
       "      <td>2017-09-01</td>\n",
       "      <td>0</td>\n",
       "      <td>2</td>\n",
       "      <td>None</td>\n",
       "      <td>1367011480</td>\n",
       "      <td>True</td>\n",
       "      <td>0</td>\n",
       "      <td>[]</td>\n",
       "      <td>[{'index': 0, 'script_asm': 'OP_HASH160 6dffc0...</td>\n",
       "    </tr>\n",
       "    <tr>\n",
       "      <th>2</th>\n",
       "      <td>d1a2060a08e8cd54480de8a0aac761b8667c175a7de08e...</td>\n",
       "      <td>213</td>\n",
       "      <td>186</td>\n",
       "      <td>1</td>\n",
       "      <td>0</td>\n",
       "      <td>000000000000000000d5ed15beb3085719e8f1b95f2924...</td>\n",
       "      <td>485005</td>\n",
       "      <td>2017-09-13 10:25:46+00:00</td>\n",
       "      <td>2017-09-01</td>\n",
       "      <td>0</td>\n",
       "      <td>2</td>\n",
       "      <td>None</td>\n",
       "      <td>1255484937</td>\n",
       "      <td>True</td>\n",
       "      <td>0</td>\n",
       "      <td>[]</td>\n",
       "      <td>[{'index': 0, 'script_asm': 'OP_DUP OP_HASH160...</td>\n",
       "    </tr>\n",
       "    <tr>\n",
       "      <th>3</th>\n",
       "      <td>2fba35aaba056d4028d512c0fb134ff41d2d5c504fc7a1...</td>\n",
       "      <td>213</td>\n",
       "      <td>186</td>\n",
       "      <td>1</td>\n",
       "      <td>0</td>\n",
       "      <td>0000000000000000009fd230518a5b3d50ebcd5120a844...</td>\n",
       "      <td>486934</td>\n",
       "      <td>2017-09-25 17:28:19+00:00</td>\n",
       "      <td>2017-09-01</td>\n",
       "      <td>0</td>\n",
       "      <td>2</td>\n",
       "      <td>None</td>\n",
       "      <td>1431309437</td>\n",
       "      <td>True</td>\n",
       "      <td>0</td>\n",
       "      <td>[]</td>\n",
       "      <td>[{'index': 0, 'script_asm': 'OP_DUP OP_HASH160...</td>\n",
       "    </tr>\n",
       "    <tr>\n",
       "      <th>4</th>\n",
       "      <td>630af30aa1ade3de86df071d35b6eb28e0590cf7e0bcaa...</td>\n",
       "      <td>217</td>\n",
       "      <td>190</td>\n",
       "      <td>1</td>\n",
       "      <td>0</td>\n",
       "      <td>000000000000000000841e1fa84e8e5abdfa000936524c...</td>\n",
       "      <td>483854</td>\n",
       "      <td>2017-09-06 16:06:09+00:00</td>\n",
       "      <td>2017-09-01</td>\n",
       "      <td>0</td>\n",
       "      <td>2</td>\n",
       "      <td>None</td>\n",
       "      <td>1530785512</td>\n",
       "      <td>True</td>\n",
       "      <td>0</td>\n",
       "      <td>[]</td>\n",
       "      <td>[{'index': 0, 'script_asm': 'OP_DUP OP_HASH160...</td>\n",
       "    </tr>\n",
       "  </tbody>\n",
       "</table>\n",
       "</div>"
      ],
      "text/plain": [
       "                                                hash  size  virtual_size  \\\n",
       "0  aaac8b454e079237b8509c422b8a0ebd95e3eca5944b95...   137           137   \n",
       "1  8505c4277a8da0450cb6fd345b409a87218e09987c7e92...   193           166   \n",
       "2  d1a2060a08e8cd54480de8a0aac761b8667c175a7de08e...   213           186   \n",
       "3  2fba35aaba056d4028d512c0fb134ff41d2d5c504fc7a1...   213           186   \n",
       "4  630af30aa1ade3de86df071d35b6eb28e0590cf7e0bcaa...   217           190   \n",
       "\n",
       "   version  lock_time                                         block_hash  \\\n",
       "0        1          0  000000000000000000d6cdda66edb65e8969566ca65fe3...   \n",
       "1        1          0  000000000000000000427219aa8b931acb167f582e9b9c...   \n",
       "2        1          0  000000000000000000d5ed15beb3085719e8f1b95f2924...   \n",
       "3        1          0  0000000000000000009fd230518a5b3d50ebcd5120a844...   \n",
       "4        1          0  000000000000000000841e1fa84e8e5abdfa000936524c...   \n",
       "\n",
       "   block_number           block_timestamp block_timestamp_month  input_count  \\\n",
       "0        484015 2017-09-07 13:43:30+00:00            2017-09-01            0   \n",
       "1        485083 2017-09-13 19:30:26+00:00            2017-09-01            0   \n",
       "2        485005 2017-09-13 10:25:46+00:00            2017-09-01            0   \n",
       "3        486934 2017-09-25 17:28:19+00:00            2017-09-01            0   \n",
       "4        483854 2017-09-06 16:06:09+00:00            2017-09-01            0   \n",
       "\n",
       "   output_count input_value output_value  is_coinbase fee inputs  \\\n",
       "0             1        None   1266641901         True   0     []   \n",
       "1             2        None   1367011480         True   0     []   \n",
       "2             2        None   1255484937         True   0     []   \n",
       "3             2        None   1431309437         True   0     []   \n",
       "4             2        None   1530785512         True   0     []   \n",
       "\n",
       "                                             outputs  \n",
       "0  [{'index': 0, 'script_asm': 'OP_DUP OP_HASH160...  \n",
       "1  [{'index': 0, 'script_asm': 'OP_HASH160 6dffc0...  \n",
       "2  [{'index': 0, 'script_asm': 'OP_DUP OP_HASH160...  \n",
       "3  [{'index': 0, 'script_asm': 'OP_DUP OP_HASH160...  \n",
       "4  [{'index': 0, 'script_asm': 'OP_DUP OP_HASH160...  "
      ]
     },
     "execution_count": 5,
     "metadata": {},
     "output_type": "execute_result"
    }
   ],
   "source": [
    "# Construct a reference to the \"transactions\" table\n",
    "table_ref = dataset_ref.table('transactions')\n",
    "\n",
    "# API request - fetch the table\n",
    "table = client.get_table(table_ref)\n",
    "\n",
    "# Preview the first five lines of the \"transactions\" table\n",
    "client.list_rows(table, max_results = 5).to_dataframe()"
   ]
  },
  {
   "cell_type": "markdown",
   "metadata": {},
   "source": [
    "We get the Date with a CTE"
   ]
  },
  {
   "cell_type": "code",
   "execution_count": 7,
   "metadata": {},
   "outputs": [],
   "source": [
    "query_with_CTE = \"\"\" \n",
    "                          WITH time AS \n",
    "                          (\n",
    "                              SELECT DATE(block_timestamp) AS trans_date\n",
    "                              FROM `bigquery-public-data.crypto_bitcoin.transactions`\n",
    "                          )\n",
    "                          SELECT COUNT(1) AS transactions, trans_date\n",
    "                          FROM time\n",
    "                          GROUP BY trans_date\n",
    "                          ORDER BY trans_date\n",
    "                          \"\"\""
   ]
  },
  {
   "cell_type": "markdown",
   "metadata": {},
   "source": [
    "Here, time is a CTE we created."
   ]
  },
  {
   "cell_type": "code",
   "execution_count": 8,
   "metadata": {},
   "outputs": [
    {
     "data": {
      "text/html": [
       "<div>\n",
       "<style scoped>\n",
       "    .dataframe tbody tr th:only-of-type {\n",
       "        vertical-align: middle;\n",
       "    }\n",
       "\n",
       "    .dataframe tbody tr th {\n",
       "        vertical-align: top;\n",
       "    }\n",
       "\n",
       "    .dataframe thead th {\n",
       "        text-align: right;\n",
       "    }\n",
       "</style>\n",
       "<table border=\"1\" class=\"dataframe\">\n",
       "  <thead>\n",
       "    <tr style=\"text-align: right;\">\n",
       "      <th></th>\n",
       "      <th>transactions</th>\n",
       "      <th>trans_date</th>\n",
       "    </tr>\n",
       "  </thead>\n",
       "  <tbody>\n",
       "    <tr>\n",
       "      <th>0</th>\n",
       "      <td>1</td>\n",
       "      <td>2009-01-03</td>\n",
       "    </tr>\n",
       "    <tr>\n",
       "      <th>1</th>\n",
       "      <td>14</td>\n",
       "      <td>2009-01-09</td>\n",
       "    </tr>\n",
       "    <tr>\n",
       "      <th>2</th>\n",
       "      <td>61</td>\n",
       "      <td>2009-01-10</td>\n",
       "    </tr>\n",
       "    <tr>\n",
       "      <th>3</th>\n",
       "      <td>93</td>\n",
       "      <td>2009-01-11</td>\n",
       "    </tr>\n",
       "    <tr>\n",
       "      <th>4</th>\n",
       "      <td>101</td>\n",
       "      <td>2009-01-12</td>\n",
       "    </tr>\n",
       "  </tbody>\n",
       "</table>\n",
       "</div>"
      ],
      "text/plain": [
       "   transactions  trans_date\n",
       "0             1  2009-01-03\n",
       "1            14  2009-01-09\n",
       "2            61  2009-01-10\n",
       "3            93  2009-01-11\n",
       "4           101  2009-01-12"
      ]
     },
     "execution_count": 8,
     "metadata": {},
     "output_type": "execute_result"
    }
   ],
   "source": [
    "safe_config = bigquery.QueryJobConfig(maximum_bytes_billed = 10**10)\n",
    "query_job = client.query(query_with_CTE, job_config = safe_config)\n",
    "\n",
    "# API request - run the query, and convert the results to a pandas DataFrame\n",
    "transactions_by_date = query_job.to_dataframe()\n",
    "\n",
    "# Print the first five rows\n",
    "transactions_by_date.head()"
   ]
  },
  {
   "cell_type": "code",
   "execution_count": null,
   "metadata": {},
   "outputs": [],
   "source": [
    "transactions_by_date.set_index('trans_date').plot()"
   ]
  },
  {
   "cell_type": "code",
   "execution_count": 16,
   "metadata": {},
   "outputs": [
    {
     "data": {
      "image/png": "[encoded data removed]",
      "text/plain": [
       "<Figure size 432x288 with 1 Axes>"
      ]
     },
     "metadata": {
      "needs_background": "light"
     },
     "output_type": "display_data"
    }
   ],
   "source": [
    "plt.plot(transactions_by_date.set_index('trans_date'))\n",
    "plt.show()"
   ]
  },
  {
   "cell_type": "code",
   "execution_count": 17,
   "metadata": {},
   "outputs": [
    {
     "data": {
      "image/png": "[encoded data removed]",
      "text/plain": [
       "<Figure size 432x288 with 1 Axes>"
      ]
     },
     "metadata": {
      "needs_background": "light"
     },
     "output_type": "display_data"
    }
   ],
   "source": [
    "# or\n",
    "plt.plot(transactions_by_date.trans_date, transactions_by_date.transactions)\n",
    "plt.show()"
   ]
  },
  {
   "cell_type": "markdown",
   "metadata": {},
   "source": [
    "CTEs let you shift a lot of your data cleaning into SQL."
   ]
  },
  {
   "cell_type": "markdown",
   "metadata": {},
   "source": [
    "Exercises"
   ]
  },
  {
   "cell_type": "code",
   "execution_count": 18,
   "metadata": {},
   "outputs": [],
   "source": [
    "# Create a \"Client\" object\n",
    "client = bigquery.Client()\n",
    "\n",
    "# Construct a reference to the \"chicago_taxi_trips\" dataset\n",
    "dataset_ref = client.dataset('chicago_taxi_trips', project='bigquery-public-data')\n",
    "\n",
    "# API request - fetch the dataset\n",
    "dataset = client.get_dataset(dataset_ref)"
   ]
  },
  {
   "cell_type": "markdown",
   "metadata": {},
   "source": [
    "Show the table name"
   ]
  },
  {
   "cell_type": "code",
   "execution_count": 19,
   "metadata": {},
   "outputs": [
    {
     "name": "stdout",
     "output_type": "stream",
     "text": [
      "taxi_trips\n",
      "\n",
      "1\n"
     ]
    }
   ],
   "source": [
    "tables = list(client.list_tables(dataset))\n",
    "for table in tables:\n",
    "    print(table.table_id)\n",
    "print()\n",
    "print(len(tables))"
   ]
  },
  {
   "cell_type": "code",
   "execution_count": 24,
   "metadata": {},
   "outputs": [
    {
     "data": {
      "text/html": [
       "<div>\n",
       "<style scoped>\n",
       "    .dataframe tbody tr th:only-of-type {\n",
       "        vertical-align: middle;\n",
       "    }\n",
       "\n",
       "    .dataframe tbody tr th {\n",
       "        vertical-align: top;\n",
       "    }\n",
       "\n",
       "    .dataframe thead th {\n",
       "        text-align: right;\n",
       "    }\n",
       "</style>\n",
       "<table border=\"1\" class=\"dataframe\">\n",
       "  <thead>\n",
       "    <tr style=\"text-align: right;\">\n",
       "      <th></th>\n",
       "      <th>unique_key</th>\n",
       "      <th>taxi_id</th>\n",
       "      <th>trip_start_timestamp</th>\n",
       "      <th>trip_end_timestamp</th>\n",
       "      <th>trip_seconds</th>\n",
       "      <th>trip_miles</th>\n",
       "      <th>pickup_census_tract</th>\n",
       "      <th>dropoff_census_tract</th>\n",
       "      <th>pickup_community_area</th>\n",
       "      <th>dropoff_community_area</th>\n",
       "      <th>...</th>\n",
       "      <th>extras</th>\n",
       "      <th>trip_total</th>\n",
       "      <th>payment_type</th>\n",
       "      <th>company</th>\n",
       "      <th>pickup_latitude</th>\n",
       "      <th>pickup_longitude</th>\n",
       "      <th>pickup_location</th>\n",
       "      <th>dropoff_latitude</th>\n",
       "      <th>dropoff_longitude</th>\n",
       "      <th>dropoff_location</th>\n",
       "    </tr>\n",
       "  </thead>\n",
       "  <tbody>\n",
       "    <tr>\n",
       "      <th>0</th>\n",
       "      <td>81d6112c1bbd0187eb51167bda64e3856e41efc9</td>\n",
       "      <td>49692f79df4c1c5856e2568d485fd41a63acc6e2b16b5c...</td>\n",
       "      <td>2018-03-06 17:00:00+00:00</td>\n",
       "      <td>2018-03-06 17:15:00+00:00</td>\n",
       "      <td>1182</td>\n",
       "      <td>4.5</td>\n",
       "      <td>None</td>\n",
       "      <td>None</td>\n",
       "      <td>14</td>\n",
       "      <td>None</td>\n",
       "      <td>...</td>\n",
       "      <td>0.0</td>\n",
       "      <td>15.75</td>\n",
       "      <td>Cash</td>\n",
       "      <td>Flash Cab</td>\n",
       "      <td>41.968069</td>\n",
       "      <td>-87.721559</td>\n",
       "      <td>POINT (-87.7215590627 41.968069)</td>\n",
       "      <td>None</td>\n",
       "      <td>None</td>\n",
       "      <td>None</td>\n",
       "    </tr>\n",
       "    <tr>\n",
       "      <th>1</th>\n",
       "      <td>74af979c83c7681decefae3248c4be53eb83dd75</td>\n",
       "      <td>90a7cf3946c408e70e8d64b08f2bc6819ae5de6159ecef...</td>\n",
       "      <td>2018-03-06 09:00:00+00:00</td>\n",
       "      <td>2018-03-06 09:15:00+00:00</td>\n",
       "      <td>1009</td>\n",
       "      <td>4.6</td>\n",
       "      <td>None</td>\n",
       "      <td>None</td>\n",
       "      <td>14</td>\n",
       "      <td>None</td>\n",
       "      <td>...</td>\n",
       "      <td>0.0</td>\n",
       "      <td>14.75</td>\n",
       "      <td>Cash</td>\n",
       "      <td>Flash Cab</td>\n",
       "      <td>41.968069</td>\n",
       "      <td>-87.721559</td>\n",
       "      <td>POINT (-87.7215590627 41.968069)</td>\n",
       "      <td>None</td>\n",
       "      <td>None</td>\n",
       "      <td>None</td>\n",
       "    </tr>\n",
       "    <tr>\n",
       "      <th>2</th>\n",
       "      <td>6975ab2efb215e30f55c6b43e96dea23b19ccd98</td>\n",
       "      <td>a0a5ca80f20ed5f103270c7c1d197539033a94b60c6bbd...</td>\n",
       "      <td>2018-03-12 22:00:00+00:00</td>\n",
       "      <td>2018-03-12 22:30:00+00:00</td>\n",
       "      <td>1569</td>\n",
       "      <td>20.3</td>\n",
       "      <td>None</td>\n",
       "      <td>None</td>\n",
       "      <td>14</td>\n",
       "      <td>None</td>\n",
       "      <td>...</td>\n",
       "      <td>0.0</td>\n",
       "      <td>49.75</td>\n",
       "      <td>Cash</td>\n",
       "      <td>Flash Cab</td>\n",
       "      <td>41.968069</td>\n",
       "      <td>-87.721559</td>\n",
       "      <td>POINT (-87.7215590627 41.968069)</td>\n",
       "      <td>None</td>\n",
       "      <td>None</td>\n",
       "      <td>None</td>\n",
       "    </tr>\n",
       "    <tr>\n",
       "      <th>3</th>\n",
       "      <td>628ce3fb7694f62f32a1bf22def72e369f216317</td>\n",
       "      <td>b597697c5b962a3f36ed67d274ec82ed1b72232c537b5a...</td>\n",
       "      <td>2018-03-12 05:00:00+00:00</td>\n",
       "      <td>2018-03-12 05:15:00+00:00</td>\n",
       "      <td>840</td>\n",
       "      <td>7.9</td>\n",
       "      <td>None</td>\n",
       "      <td>None</td>\n",
       "      <td>14</td>\n",
       "      <td>None</td>\n",
       "      <td>...</td>\n",
       "      <td>0.0</td>\n",
       "      <td>21.75</td>\n",
       "      <td>Cash</td>\n",
       "      <td>Flash Cab</td>\n",
       "      <td>41.968069</td>\n",
       "      <td>-87.721559</td>\n",
       "      <td>POINT (-87.7215590627 41.968069)</td>\n",
       "      <td>None</td>\n",
       "      <td>None</td>\n",
       "      <td>None</td>\n",
       "    </tr>\n",
       "    <tr>\n",
       "      <th>4</th>\n",
       "      <td>bf1828ce376a873a37b390a2d348a102da260bf9</td>\n",
       "      <td>d9b418798eff38cad71ed49fc9fa217dbe1aa91d4b6fd7...</td>\n",
       "      <td>2018-03-14 14:30:00+00:00</td>\n",
       "      <td>2018-03-14 15:00:00+00:00</td>\n",
       "      <td>1054</td>\n",
       "      <td>4.1</td>\n",
       "      <td>None</td>\n",
       "      <td>None</td>\n",
       "      <td>14</td>\n",
       "      <td>None</td>\n",
       "      <td>...</td>\n",
       "      <td>0.0</td>\n",
       "      <td>14.25</td>\n",
       "      <td>Credit Card</td>\n",
       "      <td>Flash Cab</td>\n",
       "      <td>41.968069</td>\n",
       "      <td>-87.721559</td>\n",
       "      <td>POINT (-87.7215590627 41.968069)</td>\n",
       "      <td>None</td>\n",
       "      <td>None</td>\n",
       "      <td>None</td>\n",
       "    </tr>\n",
       "  </tbody>\n",
       "</table>\n",
       "<p>5 rows × 23 columns</p>\n",
       "</div>"
      ],
      "text/plain": [
       "                                 unique_key  \\\n",
       "0  81d6112c1bbd0187eb51167bda64e3856e41efc9   \n",
       "1  74af979c83c7681decefae3248c4be53eb83dd75   \n",
       "2  6975ab2efb215e30f55c6b43e96dea23b19ccd98   \n",
       "3  628ce3fb7694f62f32a1bf22def72e369f216317   \n",
       "4  bf1828ce376a873a37b390a2d348a102da260bf9   \n",
       "\n",
       "                                             taxi_id  \\\n",
       "0  49692f79df4c1c5856e2568d485fd41a63acc6e2b16b5c...   \n",
       "1  90a7cf3946c408e70e8d64b08f2bc6819ae5de6159ecef...   \n",
       "2  a0a5ca80f20ed5f103270c7c1d197539033a94b60c6bbd...   \n",
       "3  b597697c5b962a3f36ed67d274ec82ed1b72232c537b5a...   \n",
       "4  d9b418798eff38cad71ed49fc9fa217dbe1aa91d4b6fd7...   \n",
       "\n",
       "       trip_start_timestamp        trip_end_timestamp  trip_seconds  \\\n",
       "0 2018-03-06 17:00:00+00:00 2018-03-06 17:15:00+00:00          1182   \n",
       "1 2018-03-06 09:00:00+00:00 2018-03-06 09:15:00+00:00          1009   \n",
       "2 2018-03-12 22:00:00+00:00 2018-03-12 22:30:00+00:00          1569   \n",
       "3 2018-03-12 05:00:00+00:00 2018-03-12 05:15:00+00:00           840   \n",
       "4 2018-03-14 14:30:00+00:00 2018-03-14 15:00:00+00:00          1054   \n",
       "\n",
       "   trip_miles pickup_census_tract dropoff_census_tract  pickup_community_area  \\\n",
       "0         4.5                None                 None                     14   \n",
       "1         4.6                None                 None                     14   \n",
       "2        20.3                None                 None                     14   \n",
       "3         7.9                None                 None                     14   \n",
       "4         4.1                None                 None                     14   \n",
       "\n",
       "  dropoff_community_area  ...  extras  trip_total payment_type    company  \\\n",
       "0                   None  ...     0.0       15.75         Cash  Flash Cab   \n",
       "1                   None  ...     0.0       14.75         Cash  Flash Cab   \n",
       "2                   None  ...     0.0       49.75         Cash  Flash Cab   \n",
       "3                   None  ...     0.0       21.75         Cash  Flash Cab   \n",
       "4                   None  ...     0.0       14.25  Credit Card  Flash Cab   \n",
       "\n",
       "   pickup_latitude pickup_longitude                   pickup_location  \\\n",
       "0        41.968069       -87.721559  POINT (-87.7215590627 41.968069)   \n",
       "1        41.968069       -87.721559  POINT (-87.7215590627 41.968069)   \n",
       "2        41.968069       -87.721559  POINT (-87.7215590627 41.968069)   \n",
       "3        41.968069       -87.721559  POINT (-87.7215590627 41.968069)   \n",
       "4        41.968069       -87.721559  POINT (-87.7215590627 41.968069)   \n",
       "\n",
       "   dropoff_latitude  dropoff_longitude dropoff_location  \n",
       "0              None               None             None  \n",
       "1              None               None             None  \n",
       "2              None               None             None  \n",
       "3              None               None             None  \n",
       "4              None               None             None  \n",
       "\n",
       "[5 rows x 23 columns]"
      ]
     },
     "execution_count": 24,
     "metadata": {},
     "output_type": "execute_result"
    }
   ],
   "source": [
    "# Construct a reference to the \"taxi_trips\" table\n",
    "table_ref = dataset_ref.table('taxi_trips')\n",
    "\n",
    "# API request - fetch the table\n",
    "table = client.get_table(table_ref)\n",
    "\n",
    "# Preview the first five lines of the \"transactions\" table\n",
    "client.list_rows(table, max_results = 5).to_dataframe()"
   ]
  },
  {
   "cell_type": "markdown",
   "metadata": {},
   "source": [
    "Some rows in several columns are of value `None`.\n",
    "\n",
    "If the data is sufficiently old, we might be careful before assuming the data is still relevant to traffic patterns today. \n",
    "\n",
    "Write a query that counts the number of trips in each year.  "
   ]
  },
  {
   "cell_type": "code",
   "execution_count": 33,
   "metadata": {},
   "outputs": [],
   "source": [
    "rides_per_year_query = \"\"\"\n",
    "                                 select extract(year from trip_start_timestamp) as year, count(1) as num_trips\n",
    "                                 from `bigquery-public-data.chicago_taxi_trips.taxi_trips`\n",
    "                                 group by year\n",
    "                                 order by year\n",
    "                                 \"\"\""
   ]
  },
  {
   "cell_type": "code",
   "execution_count": 34,
   "metadata": {},
   "outputs": [],
   "source": [
    "safe_config = bigquery.QueryJobConfig(maximum_bytes_billed = 10**10)\n",
    "rides_per_year_query_job = client.query(rides_per_year_query, job_config = safe_config)"
   ]
  },
  {
   "cell_type": "code",
   "execution_count": 35,
   "metadata": {},
   "outputs": [],
   "source": [
    "# API request - run the query, and return a pandas DataFrame\n",
    "rides_per_year_result = rides_per_year_query_job.to_dataframe()"
   ]
  },
  {
   "cell_type": "code",
   "execution_count": 36,
   "metadata": {},
   "outputs": [
    {
     "name": "stdout",
     "output_type": "stream",
     "text": [
      "   year  num_trips\n",
      "0  2013   27217716\n",
      "1  2014   37395436\n",
      "2  2015   32385875\n",
      "3  2016   31759339\n",
      "4  2017   24988003\n",
      "5  2018   20732088\n",
      "6  2019    7032967\n"
     ]
    }
   ],
   "source": [
    "# View results\n",
    "print(rides_per_year_result)"
   ]
  },
  {
   "cell_type": "markdown",
   "metadata": {},
   "source": [
    "Some data from year 2017 are questionable, now check them"
   ]
  },
  {
   "cell_type": "code",
   "execution_count": 37,
   "metadata": {},
   "outputs": [],
   "source": [
    "rides_per_month_query = \"\"\"\n",
    "                                    select extract(month from trip_start_timestamp) as month, count(1) as num_trips\n",
    "                                    from `bigquery-public-data.chicago_taxi_trips.taxi_trips`\n",
    "                                    where extract(year from trip_start_timestamp) = 2017\n",
    "                                    group by month\n",
    "                                    order by month\n",
    "                                    \"\"\"\n",
    "# Set up the query\n",
    "safe_config = bigquery.QueryJobConfig(maximum_bytes_billed=10**10)\n",
    "rides_per_month_query_job = client.query(rides_per_month_query, job_config = safe_config)"
   ]
  },
  {
   "cell_type": "code",
   "execution_count": 38,
   "metadata": {},
   "outputs": [
    {
     "name": "stdout",
     "output_type": "stream",
     "text": [
      "    month  num_trips\n",
      "0       1    1972071\n",
      "1       2    1909802\n",
      "2       3    2362105\n",
      "3       4    2194702\n",
      "4       5    2323386\n",
      "5       6    2324472\n",
      "6       7    2054299\n",
      "7       8    2079861\n",
      "8       9    1950631\n",
      "9      10    2141197\n",
      "10     11    1907997\n",
      "11     12    1767480\n"
     ]
    }
   ],
   "source": [
    "# API request - run the query, and return a pandas DataFrame\n",
    "rides_per_month_result = rides_per_month_query_job.to_dataframe()\n",
    "\n",
    "# View results\n",
    "print(rides_per_month_result)"
   ]
  },
  {
   "cell_type": "markdown",
   "metadata": {},
   "source": [
    "Write query code using `with` CTE"
   ]
  },
  {
   "cell_type": "code",
   "execution_count": 39,
   "metadata": {},
   "outputs": [],
   "source": [
    "speeds_query = \"\"\"\n",
    "                       with RelevantRides as\n",
    "                       (\n",
    "                           select extract(hour from trip_start_timestamp) as hour_of_day, \n",
    "                                  trip_miles, \n",
    "                                  trip_seconds\n",
    "                           from `bigquery-public-data.chicago_taxi_trips.taxi_trips`\n",
    "                           where trip_start_timestamp > '2017-01-01' and \n",
    "                                 trip_start_timestamp < '2017-07-01' and \n",
    "                                 trip_seconds > 0 and \n",
    "                                 trip_miles > 0\n",
    "                       )\n",
    "                       select hour_of_day, \n",
    "                              count(1) as num_trips, \n",
    "                              3600 * sum(trip_miles) / sum(trip_seconds) as avg_mph\n",
    "                       from RelevantRides\n",
    "                       group by hour_of_day\n",
    "                       order by hour_of_day\n",
    "                       \"\"\""
   ]
  },
  {
   "cell_type": "code",
   "execution_count": 40,
   "metadata": {},
   "outputs": [],
   "source": [
    "# Set up the query\n",
    "safe_config = bigquery.QueryJobConfig(maximum_bytes_billed = 10**10)\n",
    "speeds_query_job = client.query(speeds_query, job_config = safe_config)"
   ]
  },
  {
   "cell_type": "code",
   "execution_count": 41,
   "metadata": {},
   "outputs": [
    {
     "name": "stdout",
     "output_type": "stream",
     "text": [
      "    hour_of_day  num_trips    avg_mph\n",
      "0             0     319339  20.230524\n",
      "1             1     266529  18.937621\n",
      "2             2     210147  18.777070\n",
      "3             3     159668  20.158048\n",
      "4             4     122183  26.736014\n",
      "5             5     119312  30.769172\n",
      "6             6     182738  24.588313\n",
      "7             7     358406  17.735967\n",
      "8             8     541775  15.079892\n",
      "9             9     565548  16.543882\n",
      "10           10     525120  18.539614\n",
      "11           11     594603  18.928379\n",
      "12           12     622324  17.838745\n",
      "13           13     630181  17.671089\n",
      "14           14     622465  16.974239\n",
      "15           15     640430  15.688418\n",
      "16           16     701435  14.283888\n",
      "17           17     756627  12.462955\n",
      "18           18     768251  13.646810\n",
      "19           19     701064  16.642882\n",
      "20           20     598614  19.536777\n",
      "21           21     552726  20.433874\n",
      "22           22     501095  19.531374\n",
      "23           23     399587  19.877046\n"
     ]
    }
   ],
   "source": [
    "# API request - run the query, and return a pandas DataFrame\n",
    "speeds_result = speeds_query_job.to_dataframe()\n",
    "\n",
    "# View results\n",
    "print(speeds_result)"
   ]
  },
  {
   "cell_type": "code",
   "execution_count": null,
   "metadata": {},
   "outputs": [],
   "source": []
  }
 ],
 "metadata": {
  "kernelspec": {
   "display_name": "Python 3",
   "language": "python",
   "name": "python3"
  },
  "language_info": {
   "codemirror_mode": {
    "name": "ipython",
    "version": 3
   },
   "file_extension": ".py",
   "mimetype": "text/x-python",
   "name": "python",
   "nbconvert_exporter": "python",
   "pygments_lexer": "ipython3",
   "version": "3.6.8"
  }
 },
 "nbformat": 4,
 "nbformat_minor": 2
}
